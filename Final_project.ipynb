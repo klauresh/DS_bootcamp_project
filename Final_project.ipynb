{
  "nbformat": 4,
  "nbformat_minor": 0,
  "metadata": {
    "colab": {
      "name": "Final_project.ipynb",
      "version": "0.3.2",
      "provenance": [],
      "collapsed_sections": [],
      "toc_visible": true
    },
    "kernelspec": {
      "name": "python3",
      "display_name": "Python 3"
    },
    "accelerator": "GPU"
  },
  "cells": [
    {
      "metadata": {
        "id": "5NlxxePAE5Fx",
        "colab_type": "text"
      },
      "cell_type": "markdown",
      "source": [
        "# Overview\n",
        "\n",
        "The aim of my project is to create a model which will predict wine rating based on its description written by a professsional wine-taster. I use the dataset \"Wine reviews\" from [Kaggle](https://www.kaggle.com/zynicide/wine-reviews). The dataset contains 130k observations scraped from [Wine Enthusiast](https://www.winemag.com/?s=&drink_type=win), a webpage selling wines and rating them. Each observation is a wine rated by Wine Enthusiast's experts. Apart from the rating and description, the dataset contains some other features e.g. country of origin of the wine, its designation, variety and price. In my project I concentrate on NLP analysis of the descriptions and building classification and regression models capable to predict wine rating based on the description. \n",
        "\n",
        "Dependent variable( feature \"points\") can be treated in three distinct ways:\n",
        "\n",
        "1.   Divided into classes and treated as **nominal** classification target\n",
        "2.   Divided into classes and treated as **ordinal ** classification target\n",
        "3.   Left as it is and treated as a regression target.\n",
        "\n",
        "I will test and compare these three different approaches. For each approach I will built Neural Network (LSTM) and linear model (Logistic or Linear Regression). For nominal classification and regression I will also build XGBoost model. For each model I will do some hyperparameter tuning."
      ]
    },
    {
      "metadata": {
        "id": "gObzSA6c7602",
        "colab_type": "text"
      },
      "cell_type": "markdown",
      "source": [
        "# Import of files and libraries"
      ]
    },
    {
      "metadata": {
        "id": "Ti0qxMSXISHT",
        "colab_type": "code",
        "colab": {}
      },
      "cell_type": "code",
      "source": [
        "import pandas as pd\n",
        "import numpy as np\n",
        "from wordcloud import WordCloud, STOPWORDS\n",
        "import nltk\n",
        "from nltk.corpus import stopwords\n",
        "from nltk.stem.porter import PorterStemmer\n",
        "from collections import Counter\n",
        "import string\n",
        "from sklearn.model_selection import train_test_split, GridSearchCV, RandomizedSearchCV\n",
        "from sklearn.feature_extraction.text import CountVectorizer\n",
        "from sklearn.pipeline import Pipeline, make_pipeline\n",
        "from sklearn.linear_model import LogisticRegression, LinearRegression\n",
        "from xgboost.sklearn import XGBClassifier, XGBRegressor\n",
        "from sklearn.metrics import accuracy_score, r2_score, mean_absolute_error, mean_squared_error\n",
        "from sklearn.decomposition import LatentDirichletAllocation\n",
        "import pyLDAvis\n",
        "import pyLDAvis.sklearn\n",
        "pyLDAvis.enable_notebook()\n",
        "from __future__ import print_function\n",
        "import scipy.stats as ss\n",
        "from sklearn.externals import joblib\n",
        "import gensim\n",
        "from gensim import corpora\n",
        "from gensim.scripts.glove2word2vec import glove2word2vec\n",
        "from gensim.models.keyedvectors import KeyedVectors\n",
        "from gensim.models import Word2Vec, word2vec\n",
        "from gensim.utils import simple_preprocess\n",
        "from keras.preprocessing.text import Tokenizer\n",
        "from keras.preprocessing import sequence\n",
        "from keras.models import Sequential, load_model\n",
        "from keras.layers.embeddings import Embedding\n",
        "from keras.layers import Dense, Dropout, Embedding, SimpleRNN, LSTM, Bidirectional, MaxPooling1D, Conv1D\n",
        "from keras.callbacks import EarlyStopping, ModelCheckpoint\n",
        "from keras.utils import np_utils, to_categorical \n",
        "from keras import regularizers\n",
        "from keras import backend as K\n",
        "import h5py\n",
        "import matplotlib.pyplot as plt\n",
        "%matplotlib inline\n",
        "import seaborn as sns\n",
        "import warnings\n",
        "warnings.filterwarnings(\"ignore\")\n",
        "import mord"
      ],
      "execution_count": 0,
      "outputs": []
    },
    {
      "metadata": {
        "id": "dy5vfCgVTzv8",
        "colab_type": "code",
        "colab": {}
      },
      "cell_type": "code",
      "source": [
        "data = pd.read_csv(\"data/winemag-data-130k-v2.csv\", index_col=0)"
      ],
      "execution_count": 0,
      "outputs": []
    },
    {
      "metadata": {
        "id": "XzUqdv-Z-GMO",
        "colab_type": "code",
        "outputId": "0020dccd-6921-4524-9a1d-dd3cf144ce27",
        "colab": {
          "base_uri": "https://localhost:8080/",
          "height": 408
        }
      },
      "cell_type": "code",
      "source": [
        "data.head()"
      ],
      "execution_count": 0,
      "outputs": [
        {
          "output_type": "execute_result",
          "data": {
            "text/html": [
              "<div>\n",
              "<style scoped>\n",
              "    .dataframe tbody tr th:only-of-type {\n",
              "        vertical-align: middle;\n",
              "    }\n",
              "\n",
              "    .dataframe tbody tr th {\n",
              "        vertical-align: top;\n",
              "    }\n",
              "\n",
              "    .dataframe thead th {\n",
              "        text-align: right;\n",
              "    }\n",
              "</style>\n",
              "<table border=\"1\" class=\"dataframe\">\n",
              "  <thead>\n",
              "    <tr style=\"text-align: right;\">\n",
              "      <th></th>\n",
              "      <th>country</th>\n",
              "      <th>description</th>\n",
              "      <th>designation</th>\n",
              "      <th>points</th>\n",
              "      <th>price</th>\n",
              "      <th>province</th>\n",
              "      <th>region_1</th>\n",
              "      <th>region_2</th>\n",
              "      <th>taster_name</th>\n",
              "      <th>taster_twitter_handle</th>\n",
              "      <th>title</th>\n",
              "      <th>variety</th>\n",
              "      <th>winery</th>\n",
              "    </tr>\n",
              "  </thead>\n",
              "  <tbody>\n",
              "    <tr>\n",
              "      <th>0</th>\n",
              "      <td>Italy</td>\n",
              "      <td>Aromas include tropical fruit, broom, brimston...</td>\n",
              "      <td>Vulkà Bianco</td>\n",
              "      <td>87</td>\n",
              "      <td>NaN</td>\n",
              "      <td>Sicily &amp; Sardinia</td>\n",
              "      <td>Etna</td>\n",
              "      <td>NaN</td>\n",
              "      <td>Kerin O’Keefe</td>\n",
              "      <td>@kerinokeefe</td>\n",
              "      <td>Nicosia 2013 Vulkà Bianco  (Etna)</td>\n",
              "      <td>White Blend</td>\n",
              "      <td>Nicosia</td>\n",
              "    </tr>\n",
              "    <tr>\n",
              "      <th>1</th>\n",
              "      <td>Portugal</td>\n",
              "      <td>This is ripe and fruity, a wine that is smooth...</td>\n",
              "      <td>Avidagos</td>\n",
              "      <td>87</td>\n",
              "      <td>15.0</td>\n",
              "      <td>Douro</td>\n",
              "      <td>NaN</td>\n",
              "      <td>NaN</td>\n",
              "      <td>Roger Voss</td>\n",
              "      <td>@vossroger</td>\n",
              "      <td>Quinta dos Avidagos 2011 Avidagos Red (Douro)</td>\n",
              "      <td>Portuguese Red</td>\n",
              "      <td>Quinta dos Avidagos</td>\n",
              "    </tr>\n",
              "    <tr>\n",
              "      <th>2</th>\n",
              "      <td>US</td>\n",
              "      <td>Tart and snappy, the flavors of lime flesh and...</td>\n",
              "      <td>NaN</td>\n",
              "      <td>87</td>\n",
              "      <td>14.0</td>\n",
              "      <td>Oregon</td>\n",
              "      <td>Willamette Valley</td>\n",
              "      <td>Willamette Valley</td>\n",
              "      <td>Paul Gregutt</td>\n",
              "      <td>@paulgwine</td>\n",
              "      <td>Rainstorm 2013 Pinot Gris (Willamette Valley)</td>\n",
              "      <td>Pinot Gris</td>\n",
              "      <td>Rainstorm</td>\n",
              "    </tr>\n",
              "    <tr>\n",
              "      <th>3</th>\n",
              "      <td>US</td>\n",
              "      <td>Pineapple rind, lemon pith and orange blossom ...</td>\n",
              "      <td>Reserve Late Harvest</td>\n",
              "      <td>87</td>\n",
              "      <td>13.0</td>\n",
              "      <td>Michigan</td>\n",
              "      <td>Lake Michigan Shore</td>\n",
              "      <td>NaN</td>\n",
              "      <td>Alexander Peartree</td>\n",
              "      <td>NaN</td>\n",
              "      <td>St. Julian 2013 Reserve Late Harvest Riesling ...</td>\n",
              "      <td>Riesling</td>\n",
              "      <td>St. Julian</td>\n",
              "    </tr>\n",
              "    <tr>\n",
              "      <th>4</th>\n",
              "      <td>US</td>\n",
              "      <td>Much like the regular bottling from 2012, this...</td>\n",
              "      <td>Vintner's Reserve Wild Child Block</td>\n",
              "      <td>87</td>\n",
              "      <td>65.0</td>\n",
              "      <td>Oregon</td>\n",
              "      <td>Willamette Valley</td>\n",
              "      <td>Willamette Valley</td>\n",
              "      <td>Paul Gregutt</td>\n",
              "      <td>@paulgwine</td>\n",
              "      <td>Sweet Cheeks 2012 Vintner's Reserve Wild Child...</td>\n",
              "      <td>Pinot Noir</td>\n",
              "      <td>Sweet Cheeks</td>\n",
              "    </tr>\n",
              "  </tbody>\n",
              "</table>\n",
              "</div>"
            ],
            "text/plain": [
              "    country                                        description  \\\n",
              "0     Italy  Aromas include tropical fruit, broom, brimston...   \n",
              "1  Portugal  This is ripe and fruity, a wine that is smooth...   \n",
              "2        US  Tart and snappy, the flavors of lime flesh and...   \n",
              "3        US  Pineapple rind, lemon pith and orange blossom ...   \n",
              "4        US  Much like the regular bottling from 2012, this...   \n",
              "\n",
              "                          designation  points  price           province  \\\n",
              "0                        Vulkà Bianco      87    NaN  Sicily & Sardinia   \n",
              "1                            Avidagos      87   15.0              Douro   \n",
              "2                                 NaN      87   14.0             Oregon   \n",
              "3                Reserve Late Harvest      87   13.0           Michigan   \n",
              "4  Vintner's Reserve Wild Child Block      87   65.0             Oregon   \n",
              "\n",
              "              region_1           region_2         taster_name  \\\n",
              "0                 Etna                NaN       Kerin O’Keefe   \n",
              "1                  NaN                NaN          Roger Voss   \n",
              "2    Willamette Valley  Willamette Valley        Paul Gregutt   \n",
              "3  Lake Michigan Shore                NaN  Alexander Peartree   \n",
              "4    Willamette Valley  Willamette Valley        Paul Gregutt   \n",
              "\n",
              "  taster_twitter_handle                                              title  \\\n",
              "0          @kerinokeefe                  Nicosia 2013 Vulkà Bianco  (Etna)   \n",
              "1            @vossroger      Quinta dos Avidagos 2011 Avidagos Red (Douro)   \n",
              "2           @paulgwine       Rainstorm 2013 Pinot Gris (Willamette Valley)   \n",
              "3                   NaN  St. Julian 2013 Reserve Late Harvest Riesling ...   \n",
              "4           @paulgwine   Sweet Cheeks 2012 Vintner's Reserve Wild Child...   \n",
              "\n",
              "          variety               winery  \n",
              "0     White Blend              Nicosia  \n",
              "1  Portuguese Red  Quinta dos Avidagos  \n",
              "2      Pinot Gris            Rainstorm  \n",
              "3        Riesling           St. Julian  \n",
              "4      Pinot Noir         Sweet Cheeks  "
            ]
          },
          "metadata": {
            "tags": []
          },
          "execution_count": 12
        }
      ]
    },
    {
      "metadata": {
        "id": "1Z_C86v_qvuE",
        "colab_type": "text"
      },
      "cell_type": "markdown",
      "source": [
        "In the future it will be exciting to compare predictive power of models based on NLP analysis of wines descriptions and the ones built with the rest of the features from the dataset. It's material for the next project."
      ]
    },
    {
      "metadata": {
        "id": "DPHiMxdFzkRc",
        "colab_type": "text"
      },
      "cell_type": "markdown",
      "source": [
        "# EDA"
      ]
    },
    {
      "metadata": {
        "id": "vJVrpyfO93cJ",
        "colab_type": "text"
      },
      "cell_type": "markdown",
      "source": [
        "Dataset contains 129 971 wines descriptions written by 19 wine-tasters. First, let's make sure there are no duplicated records."
      ]
    },
    {
      "metadata": {
        "id": "-pyo-ggOLtfp",
        "colab_type": "code",
        "outputId": "2106c0f1-ea5c-47a4-ab5b-4edaf96d28b9",
        "colab": {
          "base_uri": "https://localhost:8080/",
          "height": 272
        }
      },
      "cell_type": "code",
      "source": [
        "# checking for duplicates\n",
        "\n",
        "for col in data.columns:\n",
        "  print(f\"{col}: {data[col].nunique()}\")\n",
        "print(f\"\\nNumber of observations: {len(data)}\")"
      ],
      "execution_count": 0,
      "outputs": [
        {
          "output_type": "stream",
          "text": [
            "country: 43\n",
            "description: 119955\n",
            "designation: 37979\n",
            "points: 21\n",
            "price: 390\n",
            "province: 425\n",
            "region_1: 1229\n",
            "region_2: 17\n",
            "taster_name: 19\n",
            "taster_twitter_handle: 15\n",
            "title: 118840\n",
            "variety: 707\n",
            "winery: 16757\n",
            "\n",
            "Number of observations: 129971\n"
          ],
          "name": "stdout"
        }
      ]
    },
    {
      "metadata": {
        "id": "tdCUw-hqQDN2",
        "colab_type": "text"
      },
      "cell_type": "markdown",
      "source": [
        "There are ca. 10 000 wines with the same description in the dataset. It is quite odd as descriptions are detailed and seem to be tailor-made to suit specific wine. It could be the case of duplicated rows or that some wine tasters reuse templates for wine descriptions. The most important thing is to check if the same description corresponds to the same point score. "
      ]
    },
    {
      "metadata": {
        "id": "GFCUOd2NSzo2",
        "colab_type": "code",
        "outputId": "a1d00566-6866-4f9c-b0d4-770add8afe31",
        "colab": {
          "base_uri": "https://localhost:8080/",
          "height": 34
        }
      },
      "cell_type": "code",
      "source": [
        "# checking if the wines with the same description have the same point score\n",
        "\n",
        "duplicates = data[[\"description\", \"points\"]][data.duplicated(subset=\"description\", keep=False)]\n",
        "\n",
        "counter = 0\n",
        "for i in range(len(duplicates)):\n",
        "  duplicated_indexes = np.where(duplicates[\"description\"].iloc[i] == duplicates[\"description\"])\n",
        "  if duplicates[\"points\"].iloc[duplicated_indexes[0][0]] == duplicates[\"points\"].iloc[duplicated_indexes[0][1]]:\n",
        "    counter +=1\n",
        "    \n",
        "print(counter/len(duplicates))"
      ],
      "execution_count": 0,
      "outputs": [
        {
          "output_type": "stream",
          "text": [
            "0.9977029861180465\n"
          ],
          "name": "stdout"
        }
      ]
    },
    {
      "metadata": {
        "id": "WjDVntoNaxE6",
        "colab_type": "text"
      },
      "cell_type": "markdown",
      "source": [
        "Conclusion: Almost all duplicated descriptions have the same score, so the rows are true duplicates and can be safely removed."
      ]
    },
    {
      "metadata": {
        "id": "vlqUCAkubCpF",
        "colab_type": "code",
        "colab": {}
      },
      "cell_type": "code",
      "source": [
        "data = data.drop_duplicates(subset=\"description\")"
      ],
      "execution_count": 0,
      "outputs": []
    },
    {
      "metadata": {
        "id": "NtVRGWkoFri9",
        "colab_type": "text"
      },
      "cell_type": "markdown",
      "source": [
        "### Country of wine origin"
      ]
    },
    {
      "metadata": {
        "id": "NDW_jI7fPkiZ",
        "colab_type": "text"
      },
      "cell_type": "markdown",
      "source": [
        "Reviewed wines come from 43 countries."
      ]
    },
    {
      "metadata": {
        "id": "6EmKKCgEFoS-",
        "colab_type": "code",
        "outputId": "7d71d079-c002-4f31-9dbc-6ae8a8363334",
        "colab": {
          "base_uri": "https://localhost:8080/",
          "height": 444
        }
      },
      "cell_type": "code",
      "source": [
        "plt.figure(figsize=(14,6))\n",
        "country = data.country.value_counts()[:10].sort_values(ascending=False)\n",
        "country_plot = sns.countplot(x='country', data=data[data.country.isin(country.index.values)], order=country.index)\n",
        "country_plot.set_title(\"Top 10 Countries Of Wine Origin\", fontsize=25)\n",
        "country_plot.set_xlabel(\"Countries\", fontsize=15)\n",
        "country_plot.set_ylabel(\"Count\", fontsize=15)\n",
        "country_plot.set_xticklabels(country.index,rotation=45)\n",
        "plt.show()"
      ],
      "execution_count": 0,
      "outputs": [
        {
          "output_type": "display_data",
          "data": {
            "image/png": "[encoded data removed]",
            "text/plain": [
              "<Figure size 1008x432 with 1 Axes>"
            ]
          },
          "metadata": {
            "tags": []
          }
        }
      ]
    },
    {
      "metadata": {
        "id": "eeF5aM8pQFP-",
        "colab_type": "text"
      },
      "cell_type": "markdown",
      "source": [
        "### Variety of wines"
      ]
    },
    {
      "metadata": {
        "id": "g_nKzIS0_j3E",
        "colab_type": "text"
      },
      "cell_type": "markdown",
      "source": [
        "There are 707 differenet varieties of wines represented in the dataset."
      ]
    },
    {
      "metadata": {
        "id": "jKenTEw-QIyZ",
        "colab_type": "code",
        "outputId": "dcbba94c-e9a0-4760-939b-4cc94cafa27a",
        "colab": {
          "base_uri": "https://localhost:8080/",
          "height": 496
        }
      },
      "cell_type": "code",
      "source": [
        "plt.figure(figsize=(14,6))\n",
        "variety = data.variety.value_counts()[:10]\n",
        "variety_plot = sns.countplot(x='variety', data=data[data.variety.isin(variety.index.values)], order=variety.index)\n",
        "variety_plot.set_title(\"Top 10 Varieties of Wine \", fontsize=25)\n",
        "variety_plot.set_xlabel(\"Varieties\", fontsize=15)\n",
        "variety_plot.set_ylabel(\"Count\", fontsize=15)\n",
        "variety_plot.set_xticklabels(variety.index,rotation=45)\n",
        "plt.show()"
      ],
      "execution_count": 0,
      "outputs": [
        {
          "output_type": "display_data",
          "data": {
            "image/png": "[encoded data removed]",
            "text/plain": [
              "<Figure size 1008x432 with 1 Axes>"
            ]
          },
          "metadata": {
            "tags": []
          }
        }
      ]
    },
    {
      "metadata": {
        "id": "B3X3J-iFBOBC",
        "colab_type": "text"
      },
      "cell_type": "markdown",
      "source": [
        "### Points"
      ]
    },
    {
      "metadata": {
        "id": "X6YrGMdJzzqL",
        "colab_type": "code",
        "outputId": "f9df771a-f3f3-4955-bdd4-820c2e03c0ca",
        "colab": {
          "base_uri": "https://localhost:8080/",
          "height": 536
        }
      },
      "cell_type": "code",
      "source": [
        "plt.figure(figsize=(10,6))\n",
        "points_plot = sns.countplot(x='points', data=data)\n",
        "points_plot.set_title(\"Points distribution \", fontsize=25)\n",
        "points_plot.set_xlabel(\"Points\", fontsize=15)\n",
        "points_plot.set_ylabel(\"Count\", fontsize=15) \n",
        "\n",
        "print(\"Percentiles of points: \") \n",
        "print(data['points'].quantile([.01,.25,.5,.75,.99]))"
      ],
      "execution_count": 0,
      "outputs": [
        {
          "output_type": "stream",
          "text": [
            "Percentiles of points: \n",
            "0.01    82.0\n",
            "0.25    86.0\n",
            "0.50    88.0\n",
            "0.75    91.0\n",
            "0.99    95.0\n",
            "Name: points, dtype: float64\n"
          ],
          "name": "stdout"
        },
        {
          "output_type": "display_data",
          "data": {
            "image/png": "[encoded data removed]",
            "text/plain": [
              "<Figure size 720x432 with 1 Axes>"
            ]
          },
          "metadata": {
            "tags": []
          }
        }
      ]
    },
    {
      "metadata": {
        "id": "ro4xApCtDvfx",
        "colab_type": "text"
      },
      "cell_type": "markdown",
      "source": [
        "50% of wines scored between 86 and 91 points. Only 1% of wines got less than 82 points (scale beginning with 80) and 1% was above the 95 points threshold. The median is 88 points. Distribution of points is rather normal, a bit left-skewed with lower scores more prevalent than the highest."
      ]
    },
    {
      "metadata": {
        "id": "ihB4n2VtGvYx",
        "colab_type": "text"
      },
      "cell_type": "markdown",
      "source": [
        "### Reviews (feature Description in the dataset)"
      ]
    },
    {
      "metadata": {
        "id": "rdSa3msVegi5",
        "colab_type": "code",
        "outputId": "b495b913-3838-44b3-d609-d27c730c17f7",
        "colab": {
          "base_uri": "https://localhost:8080/",
          "height": 85
        }
      },
      "cell_type": "code",
      "source": [
        "desc_length = data['description'].apply(len)\n",
        "\n",
        "print(f\"The longest description contains: {desc_length.max()} characters\")\n",
        "print(f\"The shortest description contains: {desc_length.min()} characters\")\n",
        "print(f\"Median number of characters is: {desc_length.median()}\")\n",
        "print(f\"Standard deviation of reviews: {np.std(desc_length)}\")\n",
        "      \n",
        "      "
      ],
      "execution_count": 0,
      "outputs": [
        {
          "output_type": "stream",
          "text": [
            "The longest description contains: 829 characters\n",
            "The shortest description contains: 20 characters\n",
            "Median number of characters is: 237.0\n",
            "Standard deviation of reviews: 67.14651943090978\n"
          ],
          "name": "stdout"
        }
      ]
    },
    {
      "metadata": {
        "id": "UgAeJtzkdLj2",
        "colab_type": "text"
      },
      "cell_type": "markdown",
      "source": [
        "It's interesting that the length of review is positively correlated with the number of points."
      ]
    },
    {
      "metadata": {
        "id": "6MCnbcC8HVpq",
        "colab_type": "code",
        "outputId": "534d8b5b-7f6d-4f55-b7d9-c814fcc99502",
        "colab": {
          "base_uri": "https://localhost:8080/",
          "height": 417
        }
      },
      "cell_type": "code",
      "source": [
        "data = data.assign(desc_length = data['description'].apply(len))\n",
        "\n",
        "plt.figure(figsize=(14,6))\n",
        "points_length = sns.boxplot(x='points', y='desc_length', data=data)\n",
        "points_length.set_title('Points by review length', fontsize=25)\n",
        "points_length.set_ylabel('Review length', fontsize = 15)\n",
        "points_length.set_xlabel('Points', fontsize = 15) \n",
        "plt.show()"
      ],
      "execution_count": 0,
      "outputs": [
        {
          "output_type": "display_data",
          "data": {
            "image/png": "[encoded data removed]",
            "text/plain": [
              "<Figure size 1008x432 with 1 Axes>"
            ]
          },
          "metadata": {
            "tags": []
          }
        }
      ]
    },
    {
      "metadata": {
        "id": "dqPzipDSkD_u",
        "colab_type": "text"
      },
      "cell_type": "markdown",
      "source": [
        "WordCloud of reviews shows most common words in reviews excluding stopwords."
      ]
    },
    {
      "metadata": {
        "id": "7Ab5vT1AkBHE",
        "colab_type": "code",
        "outputId": "5078b83f-93c3-44d8-c515-7144613b8907",
        "colab": {
          "base_uri": "https://localhost:8080/",
          "height": 626
        }
      },
      "cell_type": "code",
      "source": [
        "stopwords = set(STOPWORDS)\n",
        "\n",
        "newStopWords = [\"Drink\", \"now\", \"offer\", \"offers\", \"flavor\", \"flavors\"]\n",
        "\n",
        "stopwords.update(newStopWords)\n",
        "\n",
        "wordcloud = WordCloud(\n",
        "    background_color='white',\n",
        "    stopwords=stopwords,\n",
        "    max_words=300,\n",
        "    max_font_size=100, \n",
        "    width=1000, height=800,\n",
        "    random_state=42,\n",
        ").generate(\" \".join(data['description']))\n",
        "\n",
        "print(wordcloud)\n",
        "fig = plt.figure(figsize = (12,14))\n",
        "plt.imshow(wordcloud)\n",
        "plt.title(\"WordCloud - wines reviews\",fontsize=25)\n",
        "plt.axis('off')\n",
        "plt.show()"
      ],
      "execution_count": 0,
      "outputs": [
        {
          "output_type": "stream",
          "text": [
            "<wordcloud.wordcloud.WordCloud object at 0x7fa6514398d0>\n"
          ],
          "name": "stdout"
        },
        {
          "output_type": "display_data",
          "data": {
            "image/png": "[encoded data removed]",
            "text/plain": [
              "<Figure size 864x1008 with 1 Axes>"
            ]
          },
          "metadata": {
            "tags": []
          }
        }
      ]
    },
    {
      "metadata": {
        "id": "NozUPGGGFY9v",
        "colab_type": "text"
      },
      "cell_type": "markdown",
      "source": [
        "# Assigning variables"
      ]
    },
    {
      "metadata": {
        "id": "rV1eY8ZGvzi-",
        "colab_type": "code",
        "colab": {}
      },
      "cell_type": "code",
      "source": [
        "X = data[\"description\"]\n",
        "y = data[\"points\"]\n",
        "\n",
        "X_train, X_test, y_train, y_test = train_test_split(X, y, test_size=0.15, \n",
        "                                                          random_state=42)\n",
        "X_train, X_val, y_train, y_val = train_test_split(X_train, y_train, test_size=0.15, \n",
        "                                                          random_state=52)"
      ],
      "execution_count": 0,
      "outputs": []
    },
    {
      "metadata": {
        "id": "afPlyEew9f3q",
        "colab_type": "text"
      },
      "cell_type": "markdown",
      "source": [
        "# Text preprocessing for LDA"
      ]
    },
    {
      "metadata": {
        "id": "MJROWXOftyUB",
        "colab_type": "text"
      },
      "cell_type": "markdown",
      "source": [
        "First, in order to conduct topic analysis I have to preprocess reviews of wines:\n",
        "\n",
        "- make all words lowercase\n",
        "- remove stopwords\n",
        "- stem words\n",
        "- get rid of punctuation\n",
        "\n"
      ]
    },
    {
      "metadata": {
        "colab_type": "code",
        "id": "pIgNeiPZmBRn",
        "colab": {}
      },
      "cell_type": "code",
      "source": [
        "def preprocess_descriptions(X):\n",
        "  # 1.step: turning all words into lower case\n",
        "  X_1 = X.str.lower()\n",
        "\n",
        "  # 2.step: tokenizing descriptions (getting a list of all words used)\n",
        "  X_2 = X.apply(nltk.word_tokenize)\n",
        "\n",
        "  # 3.step: removing the stopwords\n",
        "  stopwords = nltk.corpus.stopwords.words(\"english\")\n",
        "  X_3 = [[word for word in description if word not in stopwords] for description in X_2]\n",
        "\n",
        "  # 4.step: stemming the words\n",
        "  stemmer = nltk.PorterStemmer()\n",
        "  X_4 = [[stemmer.stem(word) for word in description] for description in X_3]\n",
        "  \n",
        "  # 5.step: removing the stopwords again (some words were stemmed to a form of e.g \"it\", \"the\"\n",
        "  # so they will be useless in analysis\n",
        "  stopwords = nltk.corpus.stopwords.words(\"english\")\n",
        "  X_5 = [[word for word in description if word not in stopwords] for description in X_4]\n",
        "\n",
        "  # 6.step: getting rid of punctuation  \n",
        "  X_6 = [\" \".join(word) for word in X_5]\n",
        "  table = str.maketrans({key: None for key in string.punctuation})\n",
        "  X_7 = [w.translate(table) for w in X_6]\n",
        "  \n",
        "  return X_7"
      ],
      "execution_count": 0,
      "outputs": []
    },
    {
      "metadata": {
        "id": "OjdieYCjtb8E",
        "colab_type": "code",
        "colab": {}
      },
      "cell_type": "code",
      "source": [
        "X_train = preprocess_descriptions(X_train)\n",
        "X_val = preprocess_descriptions(X_val)\n",
        "X_test = preprocess_descriptions(X_test)"
      ],
      "execution_count": 0,
      "outputs": []
    },
    {
      "metadata": {
        "id": "nrUdzY20voOM",
        "colab_type": "text"
      },
      "cell_type": "markdown",
      "source": [
        "Reviews prepared in such a way are ready to be vectorized. \n",
        "\n",
        "I will use CountVectorizer with parameter max_df set to 0.5, which means that it will disregard words that are common to more than half of the reviews. Such words don't convey any unique meaning and don't have predictive power in case of my dataset. I will set min_df=2 as I don't want to take into account words that occured only once as it will lead to overfitting. However, I don't want to get rid of rare words altogether as some points were also very rare (e.g. 100 points) and these words may turn out specific to them.\n"
      ]
    },
    {
      "metadata": {
        "id": "UDM1D2mIoVI9",
        "colab_type": "code",
        "colab": {}
      },
      "cell_type": "code",
      "source": [
        "#Creating vectorized reprezentation of descriptions\n",
        "\n",
        "tf_vectorizer = CountVectorizer(max_df=0.5, min_df=2)\n",
        "tf_vectorizer.fit(X_train)\n",
        "X_train = tf_vectorizer.transform(X_train)\n",
        "X_val = tf_vectorizer.transform(X_val)\n",
        "X_test = tf_vectorizer.transform(X_test)"
      ],
      "execution_count": 0,
      "outputs": []
    },
    {
      "metadata": {
        "id": "08B1Qky5XyG1",
        "colab_type": "text"
      },
      "cell_type": "markdown",
      "source": [
        "# Topic modelling (Latent Dirichlet Allocation)"
      ]
    },
    {
      "metadata": {
        "id": "DfJZkR4nkqbA",
        "colab_type": "text"
      },
      "cell_type": "markdown",
      "source": [
        "My train data set has over 86 000 rows and over 15 000 columns. In order to reduce dimensionality and to extract topics I will use LDA."
      ]
    },
    {
      "metadata": {
        "id": "lSOVTvg1-fZl",
        "colab_type": "code",
        "colab": {}
      },
      "cell_type": "code",
      "source": [
        "# grid searching for best number of topics for LDA model\n",
        "\n",
        "def find_best_lda_model(document_term_matrix, n_components):\n",
        "  \n",
        "  filename = \"best_lda_model.joblib\"\n",
        "  \n",
        "  lda = LatentDirichletAllocation(random_state=32)\n",
        "  search_params = {'n_components': n_components}\n",
        "  gs = GridSearchCV(lda, param_grid=search_params)\n",
        "  gs.fit(document_term_matrix)\n",
        "  \n",
        "  joblib.dump(gs.best_estimator_, filename)\n",
        "  \n",
        "  print(gs.best_params_)\n",
        "  \n",
        "  return gs.best_estimator_\n",
        "  "
      ],
      "execution_count": 0,
      "outputs": []
    },
    {
      "metadata": {
        "id": "CYbUO4tB4Dj8",
        "colab_type": "code",
        "colab": {}
      },
      "cell_type": "code",
      "source": [
        "best_lda_model = find_best_lda_model(X_train, [3, 5, 7, 10]) # no need to run, best model saved and loaded below"
      ],
      "execution_count": 0,
      "outputs": []
    },
    {
      "metadata": {
        "id": "jYWLDCR2NVUQ",
        "colab_type": "code",
        "colab": {}
      },
      "cell_type": "code",
      "source": [
        "best_lda_model = joblib.load(\"data/best_lda_model.joblib\")"
      ],
      "execution_count": 0,
      "outputs": []
    },
    {
      "metadata": {
        "id": "mBCY-BHKPjQi",
        "colab_type": "code",
        "outputId": "82a4796c-6162-4b6e-d1dd-6b3cf6957e5e",
        "colab": {
          "base_uri": "https://localhost:8080/",
          "height": 136
        }
      },
      "cell_type": "code",
      "source": [
        "best_lda_model"
      ],
      "execution_count": 0,
      "outputs": [
        {
          "output_type": "execute_result",
          "data": {
            "text/plain": [
              "LatentDirichletAllocation(batch_size=128, doc_topic_prior=None,\n",
              "             evaluate_every=-1, learning_decay=0.7,\n",
              "             learning_method='batch', learning_offset=10.0,\n",
              "             max_doc_update_iter=100, max_iter=10, mean_change_tol=0.001,\n",
              "             n_components=5, n_jobs=None, n_topics=None, perp_tol=0.1,\n",
              "             random_state=32, topic_word_prior=None,\n",
              "             total_samples=1000000.0, verbose=0)"
            ]
          },
          "metadata": {
            "tags": []
          },
          "execution_count": 17
        }
      ]
    },
    {
      "metadata": {
        "id": "tf91zmw35Urj",
        "colab_type": "code",
        "colab": {}
      },
      "cell_type": "code",
      "source": [
        "# X_train, X_val, X_test will be now a matrix of LDA features\n",
        "\n",
        "X_train_lda = best_lda_model.transform(X_train)\n",
        "X_val_lda = best_lda_model.transform(X_val)\n",
        "X_test_lda = best_lda_model.transform(X_test)\n"
      ],
      "execution_count": 0,
      "outputs": []
    },
    {
      "metadata": {
        "id": "pJWPeq6asMkf",
        "colab_type": "text"
      },
      "cell_type": "markdown",
      "source": [
        "It turned out that the best number of topics is 5. Now I will visualize the topics with pyLDAvis."
      ]
    },
    {
      "metadata": {
        "id": "dFoqr2MSqqUe",
        "colab_type": "code",
        "colab": {}
      },
      "cell_type": "code",
      "source": [
        "LDA_vis = pyLDAvis.sklearn.prepare(best_lda_model, X_train, tf_vectorizer)"
      ],
      "execution_count": 0,
      "outputs": []
    },
    {
      "metadata": {
        "id": "WWifJFQ4MVr_",
        "colab_type": "code",
        "colab": {
          "base_uri": "https://localhost:8080/",
          "height": 861
        },
        "outputId": "53d50f67-5f32-4f27-e9ba-df84350c933e"
      },
      "cell_type": "code",
      "source": [
        "LDA_vis"
      ],
      "execution_count": 14,
      "outputs": [
        {
          "output_type": "execute_result",
          "data": {
            "text/html": [
              "\n",
              "<link rel=\"stylesheet\" type=\"text/css\" href=\"https://cdn.rawgit.com/bmabey/pyLDAvis/files/ldavis.v1.0.0.css\">\n",
              "\n",
              "\n",
              "<div id=\"ldavis_el1481400038215548083722461563\"></div>\n",
              "<script type=\"text/javascript\">\n",
              "\n",
              "var ldavis_el1481400038215548083722461563_data = {\"mdsDat\": {\"Freq\": [24.622065119360993, 22.432661853957274, 20.33732126415984, 18.675758230894903, 13.932193531626973], \"cluster\": [1, 1, 1, 1, 1], \"topics\": [1, 2, 3, 4, 5], \"x\": [-0.0075269743618593225, 0.08634065578233756, -0.06462481341469514, -0.18520239081265838, 0.17101352280687537], \"y\": [-0.20186534502245973, 0.025763373993968497, 0.09201381557706581, 0.03418628265491205, 0.049901872796513244]}, \"tinfo\": {\"Category\": [\"Default\", \"Default\", \"Default\", \"Default\", \"Default\", \"Default\", \"Default\", \"Default\", \"Default\", \"Default\", \"Default\", \"Default\", \"Default\", \"Default\", \"Default\", \"Default\", \"Default\", \"Default\", \"Default\", \"Default\", \"Default\", \"Default\", \"Default\", \"Default\", \"Default\", \"Default\", \"Default\", \"Default\", \"Default\", \"Default\", \"Topic1\", \"Topic1\", \"Topic1\", \"Topic1\", \"Topic1\", \"Topic1\", \"Topic1\", \"Topic1\", \"Topic1\", \"Topic1\", \"Topic1\", \"Topic1\", \"Topic1\", \"Topic1\", \"Topic1\", \"Topic1\", \"Topic1\", \"Topic1\", \"Topic1\", \"Topic1\", \"Topic1\", \"Topic1\", \"Topic1\", \"Topic1\", \"Topic1\", \"Topic1\", \"Topic1\", \"Topic1\", \"Topic1\", \"Topic1\", \"Topic1\", \"Topic1\", \"Topic1\", \"Topic1\", \"Topic1\", \"Topic1\", \"Topic1\", \"Topic1\", \"Topic1\", \"Topic1\", \"Topic1\", \"Topic1\", \"Topic1\", \"Topic1\", \"Topic1\", \"Topic1\", \"Topic1\", \"Topic1\", \"Topic1\", \"Topic1\", \"Topic1\", \"Topic1\", \"Topic1\", \"Topic1\", \"Topic1\", \"Topic1\", \"Topic1\", \"Topic1\", \"Topic1\", \"Topic1\", \"Topic1\", \"Topic1\", \"Topic1\", \"Topic1\", \"Topic1\", \"Topic1\", \"Topic1\", \"Topic1\", \"Topic1\", \"Topic1\", \"Topic1\", \"Topic1\", \"Topic1\", \"Topic1\", \"Topic1\", \"Topic2\", \"Topic2\", \"Topic2\", \"Topic2\", \"Topic2\", \"Topic2\", \"Topic2\", \"Topic2\", \"Topic2\", \"Topic2\", \"Topic2\", \"Topic2\", \"Topic2\", \"Topic2\", \"Topic2\", \"Topic2\", \"Topic2\", \"Topic2\", \"Topic2\", \"Topic2\", \"Topic2\", \"Topic2\", \"Topic2\", \"Topic2\", \"Topic2\", \"Topic2\", \"Topic2\", \"Topic2\", \"Topic2\", \"Topic2\", \"Topic2\", \"Topic2\", \"Topic2\", \"Topic2\", \"Topic2\", \"Topic2\", \"Topic2\", \"Topic2\", \"Topic2\", \"Topic2\", \"Topic2\", \"Topic2\", \"Topic2\", \"Topic2\", \"Topic2\", \"Topic2\", \"Topic2\", \"Topic2\", \"Topic2\", \"Topic2\", \"Topic2\", \"Topic2\", \"Topic2\", \"Topic2\", \"Topic2\", \"Topic2\", \"Topic2\", \"Topic2\", \"Topic2\", \"Topic2\", \"Topic2\", \"Topic2\", \"Topic2\", \"Topic2\", \"Topic2\", \"Topic2\", \"Topic2\", \"Topic2\", \"Topic2\", \"Topic2\", \"Topic2\", \"Topic2\", \"Topic2\", \"Topic2\", \"Topic2\", \"Topic2\", \"Topic2\", \"Topic2\", \"Topic2\", \"Topic2\", \"Topic2\", \"Topic2\", \"Topic2\", \"Topic2\", \"Topic2\", \"Topic2\", \"Topic2\", \"Topic2\", \"Topic3\", \"Topic3\", \"Topic3\", \"Topic3\", \"Topic3\", \"Topic3\", \"Topic3\", \"Topic3\", \"Topic3\", \"Topic3\", \"Topic3\", \"Topic3\", \"Topic3\", \"Topic3\", \"Topic3\", \"Topic3\", \"Topic3\", \"Topic3\", \"Topic3\", \"Topic3\", \"Topic3\", \"Topic3\", \"Topic3\", \"Topic3\", \"Topic3\", \"Topic3\", \"Topic3\", \"Topic3\", \"Topic3\", \"Topic3\", \"Topic3\", \"Topic3\", \"Topic3\", \"Topic3\", \"Topic3\", \"Topic3\", \"Topic3\", \"Topic3\", \"Topic3\", \"Topic3\", \"Topic3\", \"Topic3\", \"Topic3\", \"Topic3\", \"Topic3\", \"Topic3\", \"Topic3\", \"Topic3\", \"Topic3\", \"Topic3\", \"Topic3\", \"Topic3\", \"Topic3\", \"Topic3\", \"Topic3\", \"Topic3\", \"Topic3\", \"Topic3\", \"Topic3\", \"Topic3\", \"Topic3\", \"Topic3\", \"Topic3\", \"Topic3\", \"Topic3\", \"Topic3\", \"Topic3\", \"Topic3\", \"Topic3\", \"Topic3\", \"Topic3\", \"Topic3\", \"Topic3\", \"Topic3\", \"Topic3\", \"Topic3\", \"Topic3\", \"Topic3\", \"Topic3\", \"Topic3\", \"Topic3\", \"Topic3\", \"Topic3\", \"Topic3\", \"Topic3\", \"Topic3\", \"Topic3\", \"Topic3\", \"Topic3\", \"Topic3\", \"Topic3\", \"Topic3\", \"Topic3\", \"Topic3\", \"Topic4\", \"Topic4\", \"Topic4\", \"Topic4\", \"Topic4\", \"Topic4\", \"Topic4\", \"Topic4\", \"Topic4\", \"Topic4\", \"Topic4\", \"Topic4\", \"Topic4\", \"Topic4\", \"Topic4\", \"Topic4\", \"Topic4\", \"Topic4\", \"Topic4\", \"Topic4\", \"Topic4\", \"Topic4\", \"Topic4\", \"Topic4\", \"Topic4\", \"Topic4\", \"Topic4\", \"Topic4\", \"Topic4\", \"Topic4\", \"Topic4\", \"Topic4\", \"Topic4\", \"Topic4\", \"Topic4\", \"Topic4\", \"Topic4\", \"Topic4\", \"Topic4\", \"Topic4\", \"Topic4\", \"Topic4\", \"Topic4\", \"Topic4\", \"Topic4\", \"Topic4\", \"Topic4\", \"Topic4\", \"Topic4\", \"Topic4\", \"Topic4\", \"Topic4\", \"Topic4\", \"Topic4\", \"Topic4\", \"Topic4\", \"Topic4\", \"Topic4\", \"Topic4\", \"Topic4\", \"Topic4\", \"Topic4\", \"Topic4\", \"Topic4\", \"Topic4\", \"Topic4\", \"Topic4\", \"Topic4\", \"Topic4\", \"Topic4\", \"Topic4\", \"Topic4\", \"Topic4\", \"Topic4\", \"Topic4\", \"Topic4\", \"Topic4\", \"Topic5\", \"Topic5\", \"Topic5\", \"Topic5\", \"Topic5\", \"Topic5\", \"Topic5\", \"Topic5\", \"Topic5\", \"Topic5\", \"Topic5\", \"Topic5\", \"Topic5\", \"Topic5\", \"Topic5\", \"Topic5\", \"Topic5\", \"Topic5\", \"Topic5\", \"Topic5\", \"Topic5\", \"Topic5\", \"Topic5\", \"Topic5\", \"Topic5\", \"Topic5\", \"Topic5\", \"Topic5\", \"Topic5\", \"Topic5\", \"Topic5\", \"Topic5\", \"Topic5\", \"Topic5\", \"Topic5\", \"Topic5\", \"Topic5\", \"Topic5\", \"Topic5\", \"Topic5\", \"Topic5\", \"Topic5\", \"Topic5\", \"Topic5\", \"Topic5\", \"Topic5\", \"Topic5\", \"Topic5\", \"Topic5\", \"Topic5\", \"Topic5\", \"Topic5\", \"Topic5\", \"Topic5\", \"Topic5\", \"Topic5\", \"Topic5\", \"Topic5\", \"Topic5\", \"Topic5\", \"Topic5\", \"Topic5\", \"Topic5\", \"Topic5\", \"Topic5\", \"Topic5\", \"Topic5\", \"Topic5\", \"Topic5\", \"Topic5\", \"Topic5\", \"Topic5\", \"Topic5\", \"Topic5\", \"Topic5\", \"Topic5\", \"Topic5\", \"Topic5\", \"Topic5\", \"Topic5\", \"Topic5\", \"Topic5\", \"Topic5\", \"Topic5\", \"Topic5\", \"Topic5\"], \"Freq\": [20998.0, 25103.0, 27018.0, 21784.0, 8796.0, 9521.0, 16948.0, 21490.0, 6100.0, 11851.0, 7798.0, 7436.0, 5862.0, 38809.0, 26552.0, 28924.0, 12685.0, 5641.0, 8133.0, 8562.0, 8885.0, 10751.0, 14484.0, 3508.0, 25830.0, 16482.0, 5556.0, 11132.0, 10186.0, 7045.0, 1539.298334396659, 1335.627980491561, 1133.0180003306032, 864.3311556314404, 713.6315871652677, 510.99871233964114, 476.5529916015282, 439.15325376953143, 439.15210918035956, 436.2009427825555, 436.1901584547638, 414.5451088742624, 412.5781077556191, 401.7533102828607, 348.60408336862656, 331.84882642134266, 314.15673050073957, 647.7716519501694, 317.0018168837709, 266.9168843756836, 298.3136042499946, 387.5742125666148, 264.9274861360159, 232.46269254142777, 263.80851346056266, 293.1872811520397, 212.76819382459013, 206.87376902233257, 314.7264781566466, 668.5787965955133, 1682.1353060072136, 5937.596095978103, 2657.052968721228, 3438.213467543613, 2280.199018044688, 2641.1055209091096, 5384.292147929281, 5059.321259504223, 2496.0180380614984, 8218.315017116038, 3079.6311716501555, 1467.638184460874, 6124.643645641232, 3201.3083448476254, 2774.9437449448296, 2122.133118865078, 6148.571760695153, 3043.0440348006928, 703.989543823792, 1627.6583482249634, 1708.9416100260214, 2164.810536913526, 1352.8168450164494, 2243.2191870349857, 1657.1978640493023, 1945.3643104605271, 7013.219204055929, 10235.282692548251, 10383.60526366994, 3431.135901801134, 5144.193168184207, 3766.8913452892625, 6440.117207221167, 4282.649835357224, 8458.658030820696, 8007.87078561628, 6378.6980472123005, 7416.152190198248, 3705.676975894788, 3304.3495987606148, 4323.99769441705, 4863.72411786889, 3312.507645068955, 2905.283695103669, 2915.9579339087445, 1220.3577877469393, 668.8096748171422, 433.7034710421671, 297.79941367757186, 304.6776418912608, 273.989537096011, 268.0389560784954, 720.9527851849135, 411.3487485988962, 239.26285990151973, 501.98762801133023, 189.66607665267972, 184.70945633655083, 180.7333491326351, 176.77396128909032, 171.81342015212573, 169.8286299271583, 156.93361609754507, 191.46298212201089, 138.08000856370853, 135.09341338896672, 130.14245302084532, 179.3948234970431, 199.09306672006, 113.27440281640185, 108.32319622336318, 169.3612297742054, 106.33786268800026, 101.38195408464524, 99.39668636629531, 1957.7196406498226, 187.71269464916014, 243.86907064228734, 460.1011551746638, 153.43827737394804, 348.78247929930063, 243.3459031846614, 172.69812277432044, 1538.1523166715758, 450.0490732568485, 679.4375219444192, 266.3287051635761, 1791.2048106311386, 746.2173308590167, 248.62595370301307, 683.2978403672831, 1021.7512874500873, 448.6094656428187, 3299.9476429158885, 655.1313421225101, 728.6003230751935, 4983.818105147928, 620.2114338083267, 2541.6799047623667, 981.3146051768643, 6078.555510461275, 2594.861143268033, 5414.48487909098, 3413.8646923689444, 11112.930843949836, 2886.579151054739, 10907.186665781133, 5575.831383441929, 1733.863249732463, 2972.7044592461566, 3585.718228740991, 1027.922271087544, 4686.142721574505, 1597.7895234403115, 3256.220605865782, 2040.5998964664009, 1499.7306021572792, 1747.1907593951003, 9579.638455431374, 7029.913750642123, 5398.532272172874, 4103.115631122265, 5124.637642663125, 6723.717325253972, 3538.4419273114404, 4255.546012109362, 4708.0026814206385, 3459.9534315542, 3890.8771151636, 2849.6047346333526, 2335.312703281643, 2723.966121019279, 2473.760168449863, 612.4818290521604, 568.6773058111025, 249.06194001714684, 192.31327988721984, 180.3968055137902, 192.2659330412211, 146.54540456988775, 128.43141519321276, 101.73952558015002, 125.37061478422567, 102.63446248236082, 217.122867539105, 88.80133795472544, 87.8077162304933, 87.80757571803576, 85.80926769412858, 84.82099624240337, 84.81996507380914, 91.6812869788466, 79.84101843617509, 77.8507355728209, 78.81336989472466, 74.86550574461134, 74.862488515384, 73.87100242528057, 73.86797207655026, 72.87273552119719, 115.20935839561672, 71.87939834493635, 70.88260430314197, 505.6624892143794, 178.50272610674062, 132.8039267192396, 152.10739940253816, 2184.0147625274053, 307.4614013970015, 565.5793431409569, 177.9734833939204, 596.4398195350162, 266.5245826944718, 128.95617269588826, 1280.3276723506115, 1362.7812285315397, 494.6234679884115, 141.22842268707004, 3671.235527069297, 502.91041715671025, 331.25747481540355, 1283.1362193588996, 1854.9855914691473, 211.57815368363435, 1808.0457021484115, 374.137102178621, 904.2185480728666, 269.9408726259367, 1971.6434615739647, 405.45695554838176, 406.28364282809343, 525.4843189357292, 1436.7354388754886, 1101.8971799746898, 1165.9304801362605, 2819.500275501459, 2144.069895317897, 1072.7770257711923, 1612.8933035080815, 3234.103196766845, 2899.9023092061902, 3187.6514427748752, 2636.7760546723425, 4318.886521494859, 7242.228458345557, 1515.0463565358789, 4466.173346677825, 8023.0257125736, 3653.896478122655, 2806.78842685023, 4325.2308382795, 1626.1008419469563, 4389.230688389479, 1944.099605287309, 4582.473862800212, 2121.5272942928914, 2702.445960485729, 3094.758567114055, 4424.26818985184, 3969.5674458798408, 4361.368486145572, 3219.2660985336415, 2391.6570021325597, 2975.8051120843083, 2885.719328727288, 2408.181472026086, 2140.2464675841757, 1830.4200514347483, 557.5563756157383, 546.7224115238315, 420.91870780654773, 401.262252672664, 379.6347455283976, 303.9424474943753, 300.00663466042505, 295.09690434657125, 273.4700058084013, 265.6076089940746, 254.7931581982918, 180.07985501550013, 172.21847225868763, 137.8124347747163, 135.85033358002195, 135.85015403642754, 172.98955193558893, 111.26191119529092, 120.93863423871517, 109.2233535943337, 97.51127076780747, 96.53070860591829, 95.54771606966678, 92.59811855961496, 92.59746171384825, 88.66451387346417, 83.7421663473673, 81.78565426020675, 81.78407130135672, 1057.4470147854452, 134.25236313787434, 3061.0307101205485, 359.3127846931164, 2572.515357659941, 521.5210094840374, 362.87520841882736, 7162.914486686771, 4444.98706595305, 1652.634096146385, 5900.053689351021, 3187.9904193209136, 572.6706830771915, 1044.0724531680644, 5177.717294041595, 1040.0670705205841, 10846.64343236084, 1669.4960124154818, 2408.4105208130522, 4199.7463882847305, 1716.9073793586094, 7007.162735094132, 5242.484156252064, 15028.080662078304, 1818.1515959773178, 1698.1635075731008, 10544.2761283807, 8169.152792399218, 11386.918648320156, 3662.1257209736173, 3396.4903401366455, 4030.6348247327637, 2374.602790566596, 2111.2248663923624, 1834.59442426498, 6275.176946919814, 7124.879693693312, 2806.536063194691, 3483.6333222463, 4249.065643844377, 2649.251339010502, 3153.3517677517416, 2601.6735033322566, 2670.3161751867456, 2888.0137681043157, 2471.781106664015, 2523.452881845087, 828.9297545227638, 786.1569211425953, 376.89523391735133, 325.99300499303234, 316.82474728232563, 309.68787344337426, 425.1172889631623, 226.21953823894327, 216.02186314943415, 201.76727829958756, 190.58623487150072, 181.42365471785004, 168.18879945969024, 160.04283519321308, 126.42906351233519, 114.22898094821399, 95.90413199044458, 565.8072963075875, 82.66761394002704, 78.59615091307998, 68.41271425380249, 86.45482112101035, 683.4238881585298, 62.27452249546444, 59.25128294509176, 55.17761336649744, 53.14172346897012, 51.1059400421932, 201.42450801639248, 51.10438713969021, 808.3360680069383, 1053.8483873231828, 322.15185846683875, 282.8254785964429, 396.7591656432683, 376.2397049059973, 110.77733292883924, 99.99763119401035, 166.49640147741195, 2964.6740470505165, 629.7998367176617, 1018.748603727234, 1106.5702846651368, 1541.1243134296028, 2125.6846391913955, 915.4568215334391, 1253.247451506319, 661.1430203748079, 1856.729775153617, 1321.1727233575853, 1526.0691809174837, 2105.5820766823745, 2224.905269855153, 1073.327002764318, 1376.3066392135856, 9033.4484658886, 1229.324705229085, 2235.790245660807, 6750.110564972431, 4706.863484499818, 7648.675727161777, 1148.8242180760546, 3094.440017825953, 4810.1397360042365, 7752.17086394623, 2622.809589617519, 5115.224390265412, 4274.710162225002, 7350.759631560559, 1836.7627545757136, 2387.3756438592823, 3724.1276111744414, 1381.1352635029948, 2290.264543745439, 2240.0955913925723, 3498.7770701702843, 2191.3323256359586, 2357.466200562475, 2831.8448004014854, 2072.7961609256504, 2559.1103165346453, 2566.7610088334914, 1918.5992412528717, 2424.546744691304, 2220.1602600013616, 1927.228133691619], \"Term\": [\"cherri\", \"palat\", \"aroma\", \"tannin\", \"age\", \"appl\", \"black\", \"drink\", \"peach\", \"berri\", \"fruiti\", \"citru\", \"lemon\", \"fruit\", \"finish\", \"it\", \"red\", \"pear\", \"white\", \"structur\", \"crisp\", \"offer\", \"rich\", \"alongsid\", \"acid\", \"note\", \"charact\", \"nose\", \"plum\", \"cabernet\", \"tangerin\", \"blossom\", \"nectarin\", \"honeysuckl\", \"rind\", \"sparkler\", \"pithi\", \"lemonlim\", \"passion\", \"pith\", \"papaya\", \"slender\", \"jasmin\", \"honeydew\", \"grigio\", \"orchard\", \"guava\", \"golden\", \"stonefruit\", \"prosecco\", \"waxi\", \"meyer\", \"acacia\", \"custard\", \"seafood\", \"roussann\", \"leesi\", \"petrol\", \"notion\", \"bubbl\", \"riesl\", \"peach\", \"melon\", \"lime\", \"stone\", \"pineappl\", \"lemon\", \"pear\", \"grapefruit\", \"appl\", \"honey\", \"peel\", \"citru\", \"orang\", \"chardonnay\", \"tropic\", \"white\", \"clean\", \"offdri\", \"zesti\", \"zest\", \"refresh\", \"butter\", \"apricot\", \"almond\", \"yellow\", \"fresh\", \"palat\", \"finish\", \"green\", \"nose\", \"miner\", \"note\", \"crisp\", \"aroma\", \"acid\", \"thi\", \"fruit\", \"sweet\", \"light\", \"dri\", \"it\", \"offer\", \"hint\", \"ripe\", \"verdot\", \"rubberi\", \"grabbi\", \"scratchi\", \"asphalt\", \"carmen\\u00e8r\", \"choppi\", \"woodi\", \"resini\", \"sauci\", \"pencil\", \"walla\", \"loami\", \"woodspic\", \"rooti\", \"stewi\", \"blocki\", \"blacken\", \"volatil\", \"22\", \"loam\", \"17\", \"wiri\", \"compost\", \"campfir\", \"abras\", \"sagebrush\", \"33\", \"soupi\", \"murki\", \"franc\", \"reduc\", \"stem\", \"medicin\", \"smaller\", \"oregano\", \"garnacha\", \"bark\", \"malbec\", \"rubber\", \"mourv\\u00e8dr\", \"elderberri\", \"petit\", \"boysenberri\", \"spent\", \"leatheri\", \"char\", \"tempranillo\", \"herbal\", \"blackfruit\", \"purpl\", \"cabernet\", \"minti\", \"syrah\", \"oliv\", \"plum\", \"merlot\", \"blend\", \"feel\", \"finish\", \"sauvignon\", \"aroma\", \"berri\", \"coffe\", \"chocol\", \"dark\", \"grenach\", \"oak\", \"barrel\", \"herb\", \"earthi\", \"mix\", \"cassi\", \"fruit\", \"palat\", \"black\", \"nose\", \"note\", \"thi\", \"blackberri\", \"spice\", \"cherri\", \"show\", \"tannin\", \"red\", \"vanilla\", \"it\", \"dri\", \"zin\", \"napa\", \"sonoma\", \"score\", \"expens\", \"buy\", \"burger\", \"ca\", \"elabor\", \"flamboy\", \"fanci\", \"ageabl\", \"track\", \"doe\", \"anywher\", \"willamett\", \"mushroomi\", \"record\", \"peopl\", \"mendocino\", \"lodi\", \"sh\", \"06\", \"problem\", \"alexand\", \"earn\", \"scouri\", \"carnero\", \"extraordinarili\", \"porti\", \"steak\", \"russian\", \"sound\", \"persimmon\", \"noir\", \"counti\", \"case\", \"wo\", \"california\", \"re\", \"robl\", \"valley\", \"price\", \"decant\", \"higher\", \"pinot\", \"tri\", \"2011\", \"cellar\", \"alcohol\", \"flashi\", \"best\", \"2012\", \"now\", \"enorm\", \"cola\", \"barbecu\", \"2010\", \"sandalwood\", \"silki\", \"next\", \"jam\", \"like\", \"one\", \"wineri\", \"nt\", \"year\", \"complex\", \"good\", \"currant\", \"blackberri\", \"cherri\", \"littl\", \"oak\", \"it\", \"sweet\", \"raspberri\", \"rich\", \"vintag\", \"dri\", \"tast\", \"drink\", \"chocol\", \"soft\", \"show\", \"thi\", \"tannin\", \"fruit\", \"ripe\", \"textur\", \"acid\", \"finish\", \"black\", \"spice\", \"aftertast\", \"screwcap\", \"cru\", \"champagn\", \"woodag\", \"sampl\", \"touriga\", \"grand\", \"ch\\u00e2teau\", \"nacion\", \"douro\", \"parcel\", \"premier\", \"villag\", \"chabli\", \"vinho\", \"verd\", \"lie\", \"malolact\", \"beaujolai\", \"centuri\", \"portug\", \"alvarinho\", \"arinto\", \"alentejo\", \"mediumterm\", \"quinta\", \"loir\", \"d\\u00e3o\", \"sancerr\", \"potenti\", \"provenc\", \"readi\", \"stainless\", \"attract\", \"wait\", \"drunk\", \"age\", \"charact\", \"2017\", \"fruiti\", \"wood\", \"final\", \"vine\", \"structur\", \"2016\", \"drink\", \"perfum\", \"still\", \"give\", \"need\", \"rich\", \"textur\", \"fruit\", \"young\", \"2018\", \"acid\", \"ripe\", \"it\", \"well\", \"full\", \"crisp\", \"fine\", \"dens\", \"great\", \"tannin\", \"thi\", \"year\", \"balanc\", \"fresh\", \"firm\", \"soft\", \"concentr\", \"juici\", \"red\", \"miner\", \"show\", \"underbrush\", \"finegrain\", \"till\", \"blackskin\", \"framework\", \"scorch\", \"truffl\", \"darkskin\", \"davola\", \"fleet\", \"iri\", \"woodland\", \"closegrain\", \"morello\", \"rosso\", \"canaiolo\", \"marasca\", \"assert\", \"nerello\", \"colorino\", \"2033\", \"porcini\", \"floor\", \"sagrantino\", \"mascales\", \"negroamaro\", \"2031\", \"2032\", \"2028\", \"corvina\", \"menthol\", \"forest\", \"barolo\", \"nebbiolo\", \"mediterranean\", \"nero\", \"aglianico\", \"confectionari\", \"chianti\", \"alongsid\", \"dole\", \"sage\", \"sangioves\", \"violet\", \"clove\", \"blue\", \"espresso\", \"balsam\", \"wild\", \"rose\", \"crush\", \"deliv\", \"leather\", \"velveti\", \"whiff\", \"cherri\", \"anis\", \"licoric\", \"black\", \"offer\", \"tannin\", \"polish\", \"pepper\", \"red\", \"palat\", \"open\", \"spice\", \"berri\", \"aroma\", \"tobacco\", \"firm\", \"note\", \"cinnamon\", \"herb\", \"raspberri\", \"drink\", \"bright\", \"plum\", \"ripe\", \"hint\", \"dri\", \"thi\", \"juici\", \"fruit\", \"acid\", \"it\"], \"Total\": [20998.0, 25103.0, 27018.0, 21784.0, 8796.0, 9521.0, 16948.0, 21490.0, 6100.0, 11851.0, 7798.0, 7436.0, 5862.0, 38809.0, 26552.0, 28924.0, 12685.0, 5641.0, 8133.0, 8562.0, 8885.0, 10751.0, 14484.0, 3508.0, 25830.0, 16482.0, 5556.0, 11132.0, 10186.0, 7045.0, 1540.3011348141606, 1336.5712213689974, 1133.821082618543, 865.1314848780399, 714.5512078707887, 511.7999236937995, 477.35251481932283, 439.9525156639462, 439.95252690209264, 436.99987627406597, 436.99988069686873, 415.34732026487666, 413.3788598601908, 402.55251650610785, 349.40515868922483, 332.674389170291, 314.95777800485024, 649.5881726133597, 317.91027055170565, 267.71565868721973, 299.2111924515744, 388.77309271154553, 265.7479356482072, 233.26835950053078, 264.76310883363544, 294.2912576304761, 213.58407302162394, 207.67885894222545, 315.9561394780623, 671.2460966992054, 1688.9084096477623, 6100.9324724529015, 2709.4788089332897, 3552.8709741351154, 2381.232098007469, 2795.9710932948456, 5862.367661427151, 5641.776517515055, 2730.9077518288414, 9521.635057566533, 3409.8961370301254, 1609.5285735638017, 7436.084056490366, 3706.8952830952094, 3202.2592221334876, 2411.956419896536, 8133.121595840027, 3764.4272303900166, 746.9745114435119, 1920.482433001146, 2048.5838709969144, 2680.4843538773266, 1573.1054406674293, 2851.5078895443785, 2129.5204850420264, 2647.66104944703, 14105.105788339126, 25103.520739549458, 26552.101107760616, 6100.096355091818, 11132.530706583173, 7191.883231749648, 16482.712383518967, 8885.191606892131, 27018.580697750833, 25830.726949203214, 27218.324264844916, 38809.7865385448, 9990.987939011064, 7734.37853962069, 16133.455333168908, 28924.862733473543, 10751.204036000807, 7445.267146705131, 18836.350698746122, 1221.1630159630317, 669.607130809058, 434.5015313643281, 298.59660909798095, 305.540980555209, 274.78846442216036, 268.8364097749559, 723.1641433091406, 412.67321212966755, 240.06823683555817, 503.97231877207986, 190.4678824555384, 185.50786054207404, 181.53978291645376, 177.57179719129743, 172.61176485621792, 170.62772881301646, 157.7316601543006, 192.45042514381, 138.8835559767509, 135.90762456264517, 130.94747492546642, 180.54520083509618, 200.38978707096732, 114.08343747564972, 109.12335821815384, 170.6241461958998, 107.13931248734418, 102.17926801164671, 100.19525392848168, 1981.5778224914627, 189.46832211589827, 247.0198936738484, 469.15755906525453, 154.75744110564133, 356.0816156408277, 246.99072764161625, 174.60064453598295, 1626.1364721029554, 467.109091982748, 720.3656353513768, 272.7598985606841, 2027.5221371569055, 806.727217073863, 253.91523796626203, 744.2251687591252, 1150.3309525425734, 478.2542682599575, 4095.760126740027, 727.5245444747667, 827.8586191348395, 7045.613285057788, 703.6326322570619, 3581.5450466260672, 1206.1263361946537, 10186.662284349353, 3845.436175349456, 9777.857494789352, 5898.285242624101, 26552.101107760616, 4967.919527416637, 27018.580697750833, 11851.934924697727, 2699.1465715545273, 5559.591059584397, 7624.310316059145, 1400.542070099441, 11472.864241896283, 2594.7259407424026, 7101.42181199566, 3694.864341935442, 2404.8614444194277, 3020.8200404790055, 38809.7865385448, 25103.520739549458, 16948.44046548066, 11132.530706583173, 16482.712383518967, 27218.324264844916, 9961.62576545225, 15292.462577915925, 20998.267853047473, 12387.959587364183, 21784.4950434751, 12685.797181767506, 7122.920811089567, 28924.862733473543, 16133.455333168908, 613.2816489936548, 569.4757163359609, 249.89163922860337, 193.14286590476908, 181.1961083037775, 193.1422078473212, 147.34615420908685, 129.4232920541705, 102.54453197677589, 126.43549166792201, 103.5388400426361, 219.05333997036038, 89.60193426152176, 88.60636494476523, 88.60637165308913, 86.61512415283082, 85.61962838029852, 85.61959533332649, 92.58747943689863, 80.64164544918384, 78.6504797439878, 79.64564166063664, 75.66371695442118, 75.66373168871746, 74.66814248227654, 74.66812527716158, 73.67251244970815, 116.47685715533981, 72.67695915509694, 71.68136336527843, 513.7184984726848, 181.172184692904, 134.39597003524617, 154.29911283303915, 2280.686040759271, 315.5325788665908, 601.9645190220369, 183.28686806951552, 641.6401697276254, 281.6004953245075, 132.38202843973116, 1448.1948632398928, 1549.020675241091, 540.431817886927, 146.30097149818562, 4764.115127390092, 570.038246401435, 364.9674048170578, 1566.4235400954863, 2355.3988584221743, 225.8419262159747, 2414.9255314023053, 425.7978635750105, 1144.783499931645, 297.3401081864575, 2820.9495866429725, 469.6881042802563, 473.06209554800984, 637.4730838491375, 2028.7739709980874, 1499.1893294757713, 1601.3249859532857, 4629.156527011347, 3348.567904294139, 1529.5131199399227, 2551.2328086611337, 6389.855786394749, 5676.792474018214, 6466.1937475411605, 5194.878714090319, 9961.62576545225, 20998.267853047473, 2615.12104411433, 11472.864241896283, 28924.862733473543, 9990.987939011064, 7241.716626939726, 14484.240316394504, 3123.6681179009047, 16133.455333168908, 4466.80136316254, 21490.24349143284, 5559.591059584397, 9262.301350618161, 12387.959587364183, 27218.324264844916, 21784.4950434751, 38809.7865385448, 18836.350698746122, 10240.231753604705, 25830.726949203214, 26552.101107760616, 16948.44046548066, 15292.462577915925, 1831.3519246627795, 558.3586947921265, 547.5457825641678, 421.7209387573189, 402.06080773124586, 380.43470152505756, 304.74329829062935, 300.8113387265186, 295.896235273766, 274.27012048749015, 266.4060557872918, 255.59300877062003, 180.88466147775628, 173.02061882712877, 138.61537503844136, 136.64933526312186, 136.64933553074462, 174.00724908394594, 112.07427034860298, 121.90639185215646, 110.10930574244264, 98.3121662404971, 97.32911471018859, 96.34610985952314, 93.39710643329308, 93.39711698221062, 89.4651139473633, 84.5501268030134, 82.58403832054393, 82.58404458692159, 1078.8845183606572, 135.67444476832657, 3254.517981761551, 368.6491340896479, 2785.6632056393923, 550.861973256175, 386.1232650295541, 8796.00759073416, 5556.767239531376, 1963.5475424229205, 7798.788700280469, 4104.141902081663, 669.2967237162331, 1363.9847331942988, 8562.75000508845, 1414.794638367272, 21490.24349143284, 2440.9815802520316, 3768.872627860501, 7300.931983331332, 2574.121996849146, 14484.240316394504, 10240.231753604705, 38809.7865385448, 2826.9705266240844, 2597.476240971261, 25830.726949203214, 18836.350698746122, 28924.862733473543, 6953.921562281692, 6637.449241218976, 8885.191606892131, 4563.811593623937, 3884.330963460598, 3331.2721555784624, 21784.4950434751, 27218.324264844916, 6389.855786394749, 9569.858667513223, 14105.105788339126, 6210.6377341300495, 9262.301350618161, 6231.864126556569, 6676.309386560764, 12685.797181767506, 7191.883231749648, 12387.959587364183, 829.721982699776, 786.9617638146831, 377.6887873549954, 326.78422900225337, 317.62124158457567, 310.4943382769799, 426.54290644155327, 227.01113764484134, 216.82977917639823, 202.57632464006016, 191.37789175992208, 182.2150634569249, 168.9798689588995, 160.8350905769123, 127.23762515171174, 115.02093396271628, 96.6952863836111, 571.0219868141819, 83.46004300320743, 79.38770052492984, 69.20670912842064, 87.52511232716688, 692.0732994062914, 63.097399656784205, 60.04390501033701, 55.97150200517881, 53.93532857574199, 51.8991562900419, 204.5518039142064, 51.89911234723471, 824.2344783768986, 1083.5094857762515, 327.69488115525934, 287.9837491539004, 405.9077678685101, 385.5408036065543, 112.94846932185703, 101.75284044862315, 172.9217928630878, 3508.9578226836857, 695.1475630936549, 1169.3997126983916, 1310.179329913695, 1879.7706013310685, 2695.262368917682, 1129.5409899693432, 1611.403130749868, 786.7917560385354, 2626.652263331727, 1832.3310210907998, 2175.7652323616066, 3207.414195593629, 3511.7976418075605, 1466.130026156295, 1998.5909243975177, 20998.267853047473, 1758.0826866226157, 3982.1413362491876, 16948.44046548066, 10751.204036000807, 21784.4950434751, 1692.5544261938703, 6681.04873003702, 12685.797181767506, 25103.520739549458, 5480.0515369338955, 15292.462577915925, 11851.934924697727, 27018.580697750833, 3472.0094914692872, 6210.6377341300495, 16482.712383518967, 2371.7024018736447, 7101.42181199566, 7241.716626939726, 21490.24349143284, 7410.424159729975, 10186.662284349353, 18836.350698746122, 7445.267146705131, 16133.455333168908, 27218.324264844916, 6676.309386560764, 38809.7865385448, 25830.726949203214, 28924.862733473543], \"loglift\": [30.0, 29.0, 28.0, 27.0, 26.0, 25.0, 24.0, 23.0, 22.0, 21.0, 20.0, 19.0, 18.0, 17.0, 16.0, 15.0, 14.0, 13.0, 12.0, 11.0, 10.0, 9.0, 8.0, 7.0, 6.0, 5.0, 4.0, 3.0, 2.0, 1.0, 1.4009, 1.4008, 1.4008, 1.4006, 1.4002, 1.4, 1.3999, 1.3997, 1.3997, 1.3997, 1.3997, 1.3996, 1.3996, 1.3995, 1.3992, 1.399, 1.399, 1.3987, 1.3987, 1.3985, 1.3985, 1.3984, 1.3984, 1.3981, 1.3979, 1.3978, 1.3977, 1.3976, 1.3976, 1.3975, 1.3975, 1.3744, 1.382, 1.3687, 1.3582, 1.3445, 1.3165, 1.2926, 1.3116, 1.2543, 1.2997, 1.3092, 1.2075, 1.2549, 1.2583, 1.2735, 1.1218, 1.1888, 1.3423, 1.2361, 1.2203, 1.1879, 1.2507, 1.1616, 1.1508, 1.0933, 0.7028, 0.5044, 0.4626, 0.8261, 0.6295, 0.7548, 0.4618, 0.6717, 0.2402, 0.2304, -0.0494, -0.2535, 0.4097, 0.5511, 0.0848, -0.3814, 0.2242, 0.4605, -0.4641, 1.494, 1.4935, 1.4928, 1.492, 1.4918, 1.4917, 1.4917, 1.4916, 1.4914, 1.4913, 1.4907, 1.4904, 1.4903, 1.4902, 1.4901, 1.49, 1.49, 1.4896, 1.4895, 1.4888, 1.4886, 1.4885, 1.4883, 1.4882, 1.4875, 1.4873, 1.4872, 1.4871, 1.4868, 1.4867, 1.4825, 1.4853, 1.4818, 1.4752, 1.4861, 1.4739, 1.4798, 1.4837, 1.439, 1.4574, 1.4362, 1.4708, 1.3707, 1.4167, 1.4736, 1.4092, 1.3761, 1.4307, 1.2786, 1.3898, 1.3669, 1.1484, 1.3685, 1.1517, 1.2884, 0.9783, 1.1013, 0.9036, 0.9478, 0.6237, 0.9517, 0.5875, 0.7406, 1.0521, 0.8686, 0.7403, 1.1853, 0.5993, 1.0098, 0.7149, 0.901, 1.0224, 0.9471, 0.0956, 0.2218, 0.3506, 0.4965, 0.3264, 0.0964, 0.4596, 0.2155, -0.0005, 0.2192, -0.2279, 0.0013, 0.3795, -0.868, -0.3805, 1.5914, 1.5913, 1.5894, 1.5884, 1.5883, 1.5882, 1.5873, 1.585, 1.5848, 1.5843, 1.5839, 1.5839, 1.5837, 1.5837, 1.5837, 1.5834, 1.5833, 1.5833, 1.5829, 1.5827, 1.5825, 1.5822, 1.5821, 1.5821, 1.582, 1.5819, 1.5818, 1.5818, 1.5817, 1.5815, 1.5769, 1.5779, 1.5808, 1.5784, 1.5494, 1.5668, 1.5304, 1.5633, 1.5197, 1.5377, 1.5665, 1.4695, 1.4646, 1.5041, 1.5574, 1.3321, 1.4674, 1.4958, 1.3932, 1.3539, 1.5275, 1.3033, 1.4634, 1.3568, 1.496, 1.2345, 1.4457, 1.4405, 1.3995, 1.2477, 1.2848, 1.2754, 1.0969, 1.1469, 1.238, 1.1342, 0.9118, 0.921, 0.8854, 0.9146, 0.757, 0.5282, 1.0468, 0.6493, 0.3103, 0.5868, 0.6449, 0.3841, 0.9399, 0.291, 0.7608, 0.0474, 0.6293, 0.3609, 0.2057, -0.2241, -0.1098, -0.5932, -0.1739, 0.1384, -0.5683, -0.6266, -0.3586, -0.3737, 1.6774, 1.6765, 1.6764, 1.676, 1.676, 1.6758, 1.6753, 1.6753, 1.6752, 1.675, 1.6749, 1.6748, 1.6735, 1.6733, 1.6721, 1.6721, 1.6721, 1.6721, 1.6707, 1.67, 1.6699, 1.6698, 1.6697, 1.6696, 1.6694, 1.6693, 1.669, 1.6683, 1.6682, 1.6682, 1.6579, 1.6674, 1.6167, 1.6523, 1.5983, 1.6232, 1.6158, 1.4726, 1.4547, 1.5056, 1.3989, 1.4253, 1.522, 1.4107, 1.1749, 1.3702, 0.9942, 1.2981, 1.2301, 1.125, 1.273, 0.9518, 1.0084, 0.7292, 1.2366, 1.253, 0.782, 0.8425, 0.7457, 1.0367, 1.008, 0.8875, 1.0246, 1.0683, 1.0814, 0.4333, 0.3376, 0.8552, 0.6674, 0.4781, 0.826, 0.6005, 0.8044, 0.7616, 0.198, 0.6099, 0.0868, 1.97, 1.9699, 1.9689, 1.9685, 1.9685, 1.9684, 1.9676, 1.9675, 1.9672, 1.967, 1.9668, 1.9666, 1.9663, 1.966, 1.9646, 1.9641, 1.9628, 1.9618, 1.9614, 1.9609, 1.9594, 1.9587, 1.9584, 1.9578, 1.9577, 1.9567, 1.9561, 1.9556, 1.9556, 1.9555, 1.9515, 1.9432, 1.9539, 1.9529, 1.9482, 1.9465, 1.9516, 1.9536, 1.9331, 1.8024, 1.8722, 1.8331, 1.8021, 1.7723, 1.7336, 1.7608, 1.7196, 1.797, 1.6241, 1.6439, 1.6163, 1.5501, 1.5146, 1.6591, 1.5979, 1.1275, 1.6132, 1.3937, 1.0504, 1.145, 0.9243, 1.5835, 1.2013, 1.0012, 0.7959, 1.2341, 0.8758, 0.9512, 0.6692, 1.3342, 1.0149, 0.4835, 1.4303, 0.8393, 0.7976, 0.1558, 0.7526, 0.5075, 0.0761, 0.6923, 0.1297, -0.3903, 0.724, -0.8021, -0.483, -0.7377], \"logprob\": [30.0, 29.0, 28.0, 27.0, 26.0, 25.0, 24.0, 23.0, 22.0, 21.0, 20.0, 19.0, 18.0, 17.0, 16.0, 15.0, 14.0, 13.0, 12.0, 11.0, 10.0, 9.0, 8.0, 7.0, 6.0, 5.0, 4.0, 3.0, 2.0, 1.0, -5.8239, -5.9659, -6.1304, -6.4011, -6.5926, -6.9266, -6.9964, -7.0782, -7.0782, -7.0849, -7.0849, -7.1358, -7.1406, -7.1672, -7.3091, -7.3583, -7.4131, -6.6895, -7.4041, -7.5761, -7.4649, -7.2031, -7.5836, -7.7143, -7.5878, -7.4822, -7.8028, -7.8309, -7.4113, -6.6579, -5.7352, -4.474, -5.278, -5.0203, -5.431, -5.2841, -4.5718, -4.634, -5.3406, -4.1489, -5.1304, -5.8716, -4.4429, -5.0917, -5.2346, -5.5028, -4.439, -5.1424, -6.6062, -5.7681, -5.7194, -5.4829, -5.9531, -5.4473, -5.7501, -5.5898, -4.3075, -3.9294, -3.915, -5.0224, -4.6174, -4.929, -4.3927, -4.8007, -4.1201, -4.1748, -4.4023, -4.2516, -4.9454, -5.06, -4.7911, -4.6735, -5.0576, -5.1887, -5.1851, -5.963, -6.5644, -6.9975, -7.3735, -7.3506, -7.4568, -7.4788, -6.4893, -7.0504, -7.5923, -6.8513, -7.8246, -7.8511, -7.8729, -7.895, -7.9235, -7.9351, -8.0141, -7.8152, -8.1421, -8.1639, -8.2013, -7.8803, -7.7761, -8.3401, -8.3848, -7.9379, -8.4033, -8.451, -8.4708, -5.4904, -7.835, -7.5733, -6.9384, -8.0366, -7.2154, -7.5754, -7.9183, -5.7316, -6.9605, -6.5486, -7.4852, -5.5792, -6.4549, -7.5539, -6.543, -6.1406, -6.9637, -4.9682, -6.5851, -6.4788, -4.5559, -6.6398, -5.2293, -6.181, -4.3574, -5.2086, -4.4731, -4.9343, -3.754, -5.1021, -3.7727, -4.4437, -5.6118, -5.0727, -4.8852, -6.1346, -4.6175, -5.6935, -4.9816, -5.4489, -5.7568, -5.6041, -3.9025, -4.212, -4.476, -4.7504, -4.5281, -4.2565, -4.8984, -4.7139, -4.6129, -4.9209, -4.8035, -5.115, -5.314, -5.16, -5.2564, -6.5543, -6.6285, -7.4541, -7.7127, -7.7767, -7.7129, -7.9845, -8.1164, -8.3494, -8.1406, -8.3407, -7.5914, -8.4854, -8.4967, -8.4967, -8.5197, -8.5313, -8.5313, -8.4535, -8.5918, -8.617, -8.6047, -8.6561, -8.6562, -8.6695, -8.6695, -8.6831, -8.2251, -8.6968, -8.7108, -6.746, -7.7872, -8.083, -7.9472, -5.2829, -7.2435, -6.634, -7.7902, -6.5808, -7.3864, -8.1124, -5.817, -5.7545, -6.768, -8.0214, -4.7635, -6.7514, -7.1689, -5.8148, -5.4462, -7.6172, -5.4718, -7.0472, -6.1648, -7.3736, -5.3852, -6.9668, -6.9648, -6.7075, -5.7017, -5.967, -5.9106, -5.0275, -5.3014, -5.9938, -5.586, -4.8903, -4.9994, -4.9048, -5.0945, -4.6011, -4.0841, -5.6486, -4.5675, -3.9818, -4.7683, -5.032, -4.5996, -5.5779, -4.5849, -5.3993, -4.5418, -5.3119, -5.0699, -4.9344, -4.577, -4.6854, -4.5913, -4.8949, -5.1921, -4.9736, -5.0043, -5.1852, -5.3032, -5.3743, -6.563, -6.5827, -6.8442, -6.892, -6.9474, -7.1698, -7.1828, -7.1993, -7.2754, -7.3046, -7.3461, -7.6932, -7.7378, -7.9607, -7.975, -7.975, -7.7334, -8.1747, -8.0913, -8.1932, -8.3066, -8.3167, -8.327, -8.3583, -8.3583, -8.4017, -8.4589, -8.4825, -8.4825, -5.923, -7.9869, -4.8601, -7.0024, -5.034, -6.6298, -6.9925, -4.0099, -4.4871, -5.4765, -4.2039, -4.8194, -6.5363, -5.9357, -4.3345, -5.9396, -3.595, -5.4663, -5.0999, -4.5438, -5.4383, -4.0319, -4.322, -3.2689, -5.381, -5.4493, -3.6233, -3.8785, -3.5464, -4.6808, -4.7561, -4.5849, -5.114, -5.2316, -5.372, -4.1422, -4.0152, -4.9469, -4.7308, -4.5321, -5.0046, -4.8304, -5.0227, -4.9966, -4.9183, -5.0739, -5.0532, -5.8734, -5.9264, -6.6616, -6.8067, -6.8352, -6.858, -6.5412, -7.1721, -7.2182, -7.2865, -7.3435, -7.3927, -7.4685, -7.5181, -7.7539, -7.8554, -8.0302, -6.2553, -8.1787, -8.2292, -8.368, -8.1339, -6.0665, -8.462, -8.5118, -8.583, -8.6206, -8.6597, -7.2882, -8.6597, -5.8986, -5.6334, -6.8185, -6.9487, -6.6102, -6.6633, -7.886, -7.9884, -7.4786, -4.599, -6.1482, -5.6672, -5.5846, -5.2533, -4.9317, -5.7741, -5.4601, -6.0996, -5.067, -5.4073, -5.2631, -4.9412, -4.8861, -5.6151, -5.3664, -3.4849, -5.4794, -4.8812, -3.7763, -4.1368, -3.6513, -5.5471, -4.5562, -4.1151, -3.6378, -4.7216, -4.0536, -4.2331, -3.691, -5.0778, -4.8156, -4.371, -5.3629, -4.8571, -4.8793, -4.4334, -4.9013, -4.8282, -4.6449, -4.9569, -4.7462, -4.7432, -5.0342, -4.8002, -4.8882, -5.0297]}, \"token.table\": {\"Topic\": [3, 2, 2, 3, 4, 2, 3, 4, 2, 3, 4, 5, 2, 3, 4, 5, 1, 2, 3, 4, 5, 1, 2, 3, 4, 5, 2, 5, 5, 5, 5, 2, 2, 2, 1, 1, 2, 3, 4, 5, 4, 2, 3, 4, 5, 3, 5, 2, 5, 1, 2, 3, 4, 5, 4, 3, 1, 2, 3, 4, 5, 1, 5, 4, 1, 2, 3, 5, 3, 1, 4, 1, 4, 4, 1, 2, 3, 4, 5, 2, 1, 3, 5, 1, 3, 4, 5, 1, 2, 3, 4, 5, 2, 3, 5, 2, 3, 2, 3, 3, 5, 1, 2, 3, 4, 4, 1, 2, 3, 4, 5, 1, 2, 3, 4, 5, 2, 3, 4, 5, 2, 3, 4, 5, 2, 2, 4, 5, 5, 1, 2, 3, 4, 5, 2, 1, 2, 5, 2, 3, 5, 1, 2, 3, 4, 5, 1, 3, 4, 3, 1, 2, 3, 4, 3, 3, 2, 3, 4, 5, 1, 3, 2, 5, 2, 3, 4, 1, 2, 3, 4, 2, 3, 5, 2, 3, 4, 5, 4, 4, 4, 2, 3, 5, 1, 2, 3, 4, 5, 1, 3, 4, 1, 2, 3, 4, 5, 3, 5, 2, 3, 4, 5, 2, 4, 1, 2, 3, 5, 1, 4, 1, 2, 3, 4, 5, 5, 2, 3, 5, 2, 3, 5, 1, 2, 3, 5, 5, 1, 2, 3, 4, 5, 2, 3, 1, 2, 3, 4, 5, 1, 5, 5, 1, 2, 3, 1, 2, 3, 4, 5, 4, 1, 2, 3, 5, 2, 3, 4, 5, 1, 1, 2, 3, 4, 5, 5, 5, 2, 3, 4, 1, 2, 3, 5, 1, 2, 3, 4, 5, 3, 1, 5, 4, 1, 2, 3, 4, 5, 1, 2, 3, 4, 5, 4, 5, 4, 3, 1, 2, 3, 4, 5, 3, 1, 2, 1, 3, 4, 2, 3, 5, 3, 3, 3, 1, 2, 3, 4, 5, 1, 2, 4, 5, 1, 2, 3, 4, 5, 5, 1, 2, 3, 4, 5, 1, 2, 3, 4, 5, 3, 1, 3, 5, 2, 5, 2, 3, 5, 5, 2, 3, 5, 1, 2, 3, 4, 5, 1, 2, 3, 4, 5, 1, 2, 3, 4, 5, 1, 2, 3, 4, 5, 1, 2, 1, 2, 3, 4, 5, 1, 4, 1, 2, 3, 4, 5, 2, 4, 1, 4, 1, 2, 3, 4, 5, 1, 2, 3, 4, 5, 1, 2, 3, 5, 1, 1, 1, 2, 3, 4, 5, 1, 2, 3, 4, 1, 3, 4, 1, 2, 3, 4, 5, 1, 4, 1, 1, 5, 1, 2, 3, 4, 5, 1, 2, 3, 5, 1, 1, 2, 3, 4, 5, 2, 3, 5, 2, 3, 1, 1, 4, 1, 2, 3, 5, 4, 1, 2, 3, 4, 5, 1, 2, 3, 4, 1, 4, 1, 2, 3, 4, 2, 2, 3, 4, 2, 3, 4, 4, 5, 5, 1, 2, 1, 5, 4, 1, 4, 3, 2, 5, 2, 3, 4, 5, 1, 4, 1, 2, 3, 4, 5, 2, 3, 1, 2, 3, 4, 5, 5, 2, 3, 5, 2, 3, 4, 3, 2, 3, 5, 1, 2, 3, 4, 5, 5, 5, 1, 5, 3, 4, 5, 1, 3, 4, 1, 2, 3, 5, 1, 2, 3, 4, 5, 1, 5, 1, 3, 4, 5, 1, 2, 3, 4, 5, 1, 2, 3, 4, 5, 1, 4, 1, 2, 3, 4, 5, 2, 3, 5, 1, 2, 3, 4, 5, 1, 2, 3, 4, 5, 1, 2, 3, 4, 5, 1, 1, 2, 1, 2, 3, 4, 5, 1, 4, 1, 1, 4, 1, 4, 1, 2, 5, 2, 5, 3, 1, 2, 3, 4, 5, 1, 2, 3, 4, 5, 1, 3, 2, 3, 1, 1, 3, 4, 1, 2, 3, 4, 5, 1, 1, 1, 2, 3, 4, 5, 1, 2, 3, 4, 5, 5, 3, 4, 3, 4, 5, 4, 1, 2, 3, 3, 1, 2, 4, 2, 3, 5, 4, 1, 2, 3, 4, 5, 1, 3, 5, 3, 4, 5, 3, 1, 2, 3, 4, 5, 1, 2, 1, 4, 5, 1, 2, 1, 2, 3, 4, 5, 1, 4, 1, 1, 2, 3, 4, 5, 1, 3, 2, 1, 2, 3, 5, 5, 1, 1, 2, 2, 3, 4, 1, 2, 3, 5, 1, 2, 5, 4, 4, 1, 2, 3, 5, 2, 3, 5, 2, 1, 2, 3, 4, 5, 5, 3, 3, 2, 4, 1, 3, 1, 2, 3, 4, 5, 1, 2, 3, 5, 1, 2, 3, 1, 2, 3, 4, 5, 3, 1, 3, 2, 1, 2, 4, 1, 2, 3, 4, 5, 1, 4, 2, 3, 5, 2, 3, 2, 1, 2, 3, 4, 5, 1, 2, 3, 4, 5, 1, 1, 2, 3, 4, 5, 1, 2, 3, 4, 5, 2, 3, 4, 5, 1, 2, 3, 4, 5, 1, 2, 3, 4, 5, 2, 3, 1, 2, 3, 4, 5, 1, 2, 3, 4, 5, 5, 2, 3, 5, 4, 3, 1, 2, 3, 4, 5, 1, 4, 3, 5, 5, 1, 2, 3, 4, 1, 2, 3, 4, 5, 2, 3, 5, 4, 2, 4, 1, 2, 3, 4, 5, 4, 1, 2, 3, 4, 5, 1, 2, 3, 5, 2, 3, 4, 5, 2, 1, 1, 2, 3, 4, 5, 1, 2, 5, 1, 3, 4, 5, 1, 2, 3, 5, 3, 1, 2, 3, 4, 1, 2, 3, 5, 2, 3, 4, 5, 4, 1, 2, 4, 5, 2, 2, 3, 4, 5, 1, 4, 1, 2, 3, 4, 5, 1, 4, 5, 1, 2, 3, 4, 5, 3], \"Freq\": [0.9912280683379461, 0.9927644658592637, 0.002113887393242887, 0.8582382816566121, 0.13740268056078764, 0.002739970711908523, 0.9069303056417212, 0.08767906278107274, 0.007045596647225793, 0.8783510486874823, 0.09159275641393531, 0.02113678994167738, 0.0014136327250349758, 0.026859021775664543, 0.7350890170181875, 0.23678348144335848, 0.001018564591276511, 0.0005092822956382555, 0.0071299521389355785, 0.8418436346900364, 0.14972899491764713, 0.00038498908449151976, 0.010394705281271033, 0.04196381020957565, 0.6537114654666005, 0.29336168238253807, 0.009777474271695227, 0.9826361643053703, 0.98265833173838, 0.9826749343473542, 0.9825636973117525, 0.9936381526917498, 0.9893660649775146, 0.989705611736141, 0.9971855448420216, 0.3100183752376748, 0.08064039405845112, 0.11521162396445056, 0.40819602254071463, 0.08594415497348126, 0.9992617887121676, 0.03944971584216626, 0.13926772883761862, 0.8143467278888671, 0.006821276514495606, 0.9906263014723344, 0.004565098163466979, 0.017707189942528716, 0.9827490418103437, 0.06495715129219816, 0.010189357065442849, 0.7875523898498534, 0.018255931408918437, 0.11930038897456001, 0.9957481934027935, 0.9910518400476465, 0.7781094437169966, 0.0004695892840778495, 0.0004695892840778495, 0.08358689256585722, 0.1375896602348099, 0.1550317864989165, 0.8449802333994253, 0.9966185379249716, 0.0011376029211925874, 0.06256816066559232, 0.23719020906865448, 0.699056995072845, 0.9931565682943977, 0.8630870591358596, 0.1368462445916312, 0.7866013656228714, 0.213220521755999, 0.9964076405365221, 0.3130808422036829, 0.40368515733722293, 0.01080737745873926, 0.0003701156663951801, 0.2720720263670969, 0.9982294337269392, 0.0017512460519763019, 0.0070049842079052075, 0.9912052654185869, 0.044154655792916594, 0.007897580710928172, 0.9236579622371902, 0.024410704015596165, 0.24232332791625272, 0.10449475114974244, 0.20157037496785316, 0.36405971300570267, 0.08756660146348416, 0.13853729295386952, 0.02033574942442121, 0.8401206480964013, 0.1362606364026884, 0.8622743397357625, 0.9908325393629742, 0.0057273557188611225, 0.015258096136176867, 0.9826213911697902, 0.00038539715670853476, 0.6158646564202386, 0.024665418029346225, 0.3591901500523544, 0.9925648537506081, 0.0001687488171937468, 0.4704717023361661, 0.04260907634142107, 0.12605536644372886, 0.3607005967516338, 0.013665017645839155, 0.09441284918943416, 0.7486773304144604, 0.1283683475821254, 0.015321383421092386, 0.31855438327769964, 0.14207796905588085, 0.14107492691553616, 0.39826673219567926, 0.3551629104829534, 0.4335637677715873, 0.06334307419862736, 0.14786742994386387, 0.995361361481995, 0.9003132677439419, 0.09621668510240601, 0.0013745240728915145, 0.9976001626374449, 0.10830593517693872, 0.553700031206748, 0.09859010529798766, 0.1483965174142947, 0.09102198518175209, 0.9963210621310892, 0.999572621825261, 0.1885721739109096, 0.810063563983485, 0.9247239763471339, 0.07437458254802685, 0.0012395763758004474, 0.3716386458640111, 0.0438571386731313, 0.013494504207117322, 0.27542283086726455, 0.29566458717794053, 0.9966538402081585, 0.0014897665772917168, 0.0029795331545834336, 0.9976507414737432, 0.8600822074748886, 0.001907055892405518, 0.1277727447911697, 0.010170964759496096, 0.9940861820932267, 0.9890028137008385, 0.7073905135511737, 0.2478137714005516, 0.00042579685807654915, 0.04442480552598663, 0.0685742602721988, 0.9288695255052383, 0.9905031133385951, 0.9911239291184402, 0.9971306494840736, 0.9873205957697657, 0.008585396484954485, 0.006644909913458814, 0.014951047305282331, 0.9402547527544222, 0.03820823200238818, 0.57831978621374, 0.3535463833292927, 0.06786236758661518, 0.04660297686508852, 0.8190632783275146, 0.03702702271472786, 0.09703633539032129, 0.9899254133430154, 0.9955605571296063, 0.9982904838459212, 0.8884399726366365, 0.06693725821234933, 0.044335067127659944, 0.0543481464999187, 0.10743656774983927, 0.03671199299994508, 0.7999255337488033, 0.001619646749997577, 0.866575691567896, 0.003747354341915226, 0.12959600432456825, 0.0003809838057113345, 0.22420896966112036, 0.3448855901201856, 0.0003333608299974177, 0.4301783396238106, 0.03469776654901183, 0.9599715411893273, 0.5347515614254988, 0.3816827491910221, 0.0068350350939014315, 0.07698407947867929, 0.9968887779164435, 0.9969711163342893, 0.05354803364016919, 0.11257736206240294, 0.2508746457944935, 0.5822821610793201, 0.8236862242908585, 0.17630247184413314, 0.8083567070799048, 0.0632234296040149, 0.09350692109501364, 0.02736140020677956, 0.007438050541648812, 0.9942012680863315, 0.2029487022518164, 0.00816247065729426, 0.7887914826094363, 0.6424252829668795, 0.0337143602941096, 0.3238060538137559, 0.0003544905604605414, 0.22474701533198327, 0.6990553852281877, 0.07586097993855587, 0.9951163653517324, 0.16576262111162401, 0.09001562102873525, 0.5108518610241335, 0.1440954559716349, 0.08931099777215024, 0.9930645813278143, 0.004990274278029217, 0.19368201480139308, 0.17827731436979927, 0.11681897827291977, 0.41753156794799073, 0.09371192762552905, 0.009827735477368989, 0.982773547736899, 0.9826757663749789, 0.015846224240806627, 0.006338489696322651, 0.9729581683855268, 0.48203800092253846, 0.0011254681319695038, 0.0625760281375044, 0.45367620399690695, 0.0007878276923786526, 0.9990032202209432, 0.2380771566230771, 0.05837026812959613, 0.002298042052346304, 0.701362434376092, 0.15361282600025797, 0.5076153159933336, 0.21559694877229188, 0.12300575916562011, 0.9945626594912119, 0.00013115940439802038, 0.4703376241713011, 0.13273331725079662, 0.18362316615722854, 0.21326519155118112, 0.9955458676815088, 0.9961731309253274, 0.08141637583819314, 0.9159342281796728, 0.0018503721781407533, 0.24973388254638898, 0.07046174463855669, 0.023383322335804212, 0.6566036911893822, 0.0018021121438538837, 0.26851470943422867, 0.040676245532701945, 0.5434655336679355, 0.14545619446820632, 0.9931566434855642, 0.0935053267118233, 0.9062823973607489, 0.9984758012122067, 0.26801450220711565, 0.15334594784005645, 0.2720433973605529, 0.14795342663468664, 0.15861450304070512, 0.0726376134650265, 0.046625809540010596, 0.21321303324583687, 0.5047406747310329, 0.16281807143762184, 0.9401142921865011, 0.05956647030382789, 0.9929279515458299, 0.9910520684069467, 0.10825837242795014, 0.5523883453136156, 0.18864021395570313, 0.0005412918621397507, 0.15020849174378081, 0.9946897999700344, 0.021997368497573, 0.9752166700590696, 0.003363152068852128, 0.9080510585900745, 0.08744195379015532, 0.21844316501743202, 0.003723463040069864, 0.7775831982012565, 0.993398819020041, 0.990685367646543, 0.9947957689847191, 0.24600370112898465, 0.5788122919740548, 0.07748014570361543, 0.09748596013036952, 0.0003390816004534592, 0.007470528127252403, 0.13596361191599374, 0.8561225233831253, 0.0014941056254504806, 0.04908178074505716, 0.00854548861186263, 0.38936751957127935, 0.520398344953173, 0.032648148799167484, 0.9987778773265665, 0.3910801618996915, 0.41853561625493757, 0.10869196333229099, 0.01668417870970371, 0.06500427190281852, 0.00048304218156434184, 0.07793080529238049, 0.11077767363875574, 0.42652624632131386, 0.38434056246469467, 0.9886464500672622, 0.06199026121753705, 0.938709669865561, 0.997155024699534, 0.011559469216429757, 0.9868896843526905, 0.021227317621056417, 0.006460487971625866, 0.9727649031562375, 0.9980440804856867, 0.9881014905274736, 0.0010092967216828127, 0.010597615577669533, 0.49719584562050845, 0.07862401152048251, 0.008932935483842016, 0.3012384354828947, 0.11400127188903145, 0.19108582296979745, 0.24684495469938775, 0.11236856445136012, 0.38722191849920656, 0.06248423957682832, 0.11873638786581026, 0.005641901799239364, 0.10104133222274134, 0.756527741261642, 0.01795150572485252, 0.12760926211534349, 0.274051059961995, 0.08015127207244716, 0.5116423307481777, 0.006478392291569976, 0.012146204955325297, 0.983842601381349, 0.0946454509612764, 0.05492449469677545, 0.1779224903020232, 0.5752690217617379, 0.09724785844067474, 0.997555108482086, 0.0015394368958056882, 0.15202142688251435, 0.17784805789917751, 0.49302574659354603, 0.17645620353301006, 0.000773252425648598, 0.9988457316531122, 0.9973028319678593, 0.913981806353024, 0.08568579434559599, 0.10446459603045287, 0.0006003712415543268, 0.33500715278731436, 0.5508406141260949, 0.009005568623314902, 0.5624501319780149, 0.2758972812937916, 0.05327784695215821, 0.10573603472043706, 0.0026229093884139426, 0.05926276816097845, 0.734001514090191, 0.19206848958196632, 0.014280185099030953, 0.9988404330069288, 0.9969590272990957, 0.14715363031031264, 0.45849973233528996, 0.07167578739516664, 0.00014081687111034704, 0.3224706348426947, 0.07202570240235281, 0.8057112472127602, 0.03296091465870383, 0.08936070196359705, 0.027340898416724504, 0.9637666691895388, 0.006835224604181126, 0.39018076084557884, 0.1437154609654972, 0.05036756809538453, 0.137402725764209, 0.2784319164312857, 0.9032533180563527, 0.09677714122032349, 0.9986274672658779, 0.9986921238010434, 0.998025415807192, 0.168159829998816, 0.0941750363726922, 0.27737383143102406, 0.3936751612246131, 0.0666208865969816, 0.005620345700558843, 0.04621173131570605, 0.7281470096501791, 0.2191934823217949, 0.9990835045112879, 0.18872702372606442, 0.11323621423563865, 0.010634618003611566, 0.3999215502766603, 0.2874342528018394, 0.3166469464987856, 0.049547274002507816, 0.6335786474458615, 0.9177330042986745, 0.08062076172462734, 0.9972653718352641, 0.9184002626490513, 0.0813664422889297, 0.9978349580238023, 0.266439563644259, 0.17201800291830105, 0.5615069409128776, 0.9942114533202004, 0.42718364288412947, 0.16226255200350562, 0.10149490304601745, 0.29685642980083576, 0.012153529791497631, 0.18253865365523614, 0.11405965577510613, 0.609182252435226, 0.09418562484459521, 0.9676681267145991, 0.03208672671479473, 0.21413922742136654, 0.17169377341463138, 0.5793230884703041, 0.03441523297843391, 0.9933217539077301, 0.997262323329103, 0.9917294879051577, 0.993493483406653, 0.9458000766756216, 0.001844863608600042, 0.05165618104080118, 0.9904146567694664, 0.9928095110980617, 0.9826143051462543, 0.017051840784445913, 0.98048084510564, 0.022172524677860964, 0.9780546996789781, 0.9957480809360929, 0.9806314008582521, 0.01919188289222021, 0.9920432495442052, 0.01819870485100107, 0.9803035679739243, 0.6748259187435813, 0.14068625126792966, 0.04342810344130176, 0.14094629979153028, 0.9980114552008899, 0.002572194472167242, 0.5237849223371721, 0.036569003072650985, 0.0382375507413651, 0.3437208197551074, 0.05770394020969643, 0.8811416235929945, 0.11795928186809443, 0.27901815364751303, 0.6237365580793883, 0.055304641483039096, 0.041582437205292554, 0.00041582437205292555, 0.9948077837123923, 0.942576889677421, 0.054139173339351136, 0.0013881839317782343, 0.9880707530385138, 0.992763010164605, 0.9953690891110099, 0.9991646415776573, 0.013889672635181833, 0.0034724181587954582, 0.9826943389391147, 0.9992758269967544, 0.07264612952645498, 0.16782421366539332, 0.667023552924723, 0.09245871030639725, 0.9826429170135738, 0.9944878652508032, 0.02334383265223603, 0.9752534530267497, 0.7350639297741944, 0.20877950092497538, 0.05603028139839595, 0.008769291188076784, 0.9576065977379847, 0.03332330651469177, 0.4620692397424171, 0.3685595044057421, 0.0015270561966603986, 0.1677965279624485, 0.39071239309128175, 0.31093183456410234, 0.06970940056861533, 0.002669463555282049, 0.2259336881788716, 0.9969738221272048, 0.003164996260721285, 0.0628939882556825, 0.7896689636546803, 0.000873527614662257, 0.14587911164859693, 0.11955004614418609, 0.14698776165268782, 0.6322433587887611, 0.07055412559329015, 0.03096542178816623, 0.07391353912332524, 0.40844203341026186, 0.38926635109053126, 0.020308790820441958, 0.10808111852939067, 0.9424685704998627, 0.05622681812641226, 0.3081515325080146, 0.11980053542720276, 0.07989802789749004, 0.05441251026779007, 0.43781142877006474, 0.8133476324669846, 0.18488942103989559, 0.0016582010855596017, 0.10422365918052583, 0.06420655221722937, 0.6402737114127433, 0.18724422437303637, 0.0038822566456929394, 0.251822449241438, 0.16696923264921432, 0.009671441891156676, 0.09306481819792273, 0.47864513359441435, 0.863525876923938, 0.000269767534184298, 0.004046513012764471, 0.05665118217870258, 0.07526514203741914, 0.9979728251039313, 0.019658414510960762, 0.9801123806179008, 0.407711735186022, 0.28004040042576794, 0.0033859792370114186, 3.983504984719316e-05, 0.3088013064154414, 0.9977119428607755, 0.9976798709265471, 0.9978349325351082, 0.9732938410335504, 0.02671722736417459, 0.8967033671564606, 0.10315899578672862, 0.9120683062802479, 0.01056209891468952, 0.07766249201977588, 0.996086454159059, 0.001984235964460277, 0.9936548716903022, 0.07528758138502799, 0.24562012137739747, 0.1779660721009906, 0.038017983442936595, 0.4631009479230151, 0.1904971359726478, 0.0020483563007811594, 0.00040967126015623186, 0.683741333200751, 0.12331104930702579, 0.012961837325429859, 0.9850996367326692, 0.883344239344006, 0.11639823589345918, 0.9967312082429426, 0.9445734279347561, 0.0003576574888052844, 0.0550792532760138, 0.1966787063169301, 0.00020990256810771624, 0.7705523275234263, 0.03190519035237287, 0.0006297077043231487, 0.9977119529584514, 0.9992615209758426, 0.017866499832788436, 0.5967607279314335, 0.0441754116744769, 0.1097513561157004, 0.23138098959276016, 0.008862344257804005, 0.10693895404416834, 0.17724688515608011, 0.028950324575493083, 0.6788555701477869, 0.9825751457311355, 0.9904945534893597, 0.9968247445617924, 0.008341949343823483, 0.979715606269047, 0.01112259912509798, 0.995109250997133, 0.11684802074822467, 0.003227845877022781, 0.87991078607641, 0.9912278753122028, 0.9973267955608982, 0.0073705847973623085, 0.9876583628465494, 0.8805851423783538, 0.0012079357234270971, 0.11837770089585552, 0.994801169675624, 0.0031760425303633513, 0.2731396576112482, 0.38761527750999686, 0.026651139493918556, 0.3093189246962568, 0.04971582164252532, 0.9481517413253043, 0.003551130117323237, 0.0553077294421869, 0.940538665680745, 0.003994447126380165, 0.9927633933457133, 0.01576566274348508, 0.22466069409466238, 0.15276927198437043, 0.22765617001592456, 0.37916418898081616, 0.005277927142819671, 0.9922503028500981, 0.8076898478695922, 0.19101025501581118, 0.0014922676173110248, 0.0024232248922563607, 0.9959454307173643, 0.11626429575970958, 0.0602033645501584, 0.29860040330210447, 0.48376717362724764, 0.04114817118336515, 0.9959095415664352, 0.003552590516883835, 0.9992285957049444, 0.15480705613503518, 0.09025102723921803, 0.17089297451943697, 0.4336827303042189, 0.15034759361262676, 0.022661686298044555, 0.9744525108159158, 0.9967799098711524, 0.27560522317597935, 0.0027287645859007856, 0.0005457529171801572, 0.7209396035949875, 0.9902731196826721, 0.9956123140018742, 0.034253240355661796, 0.9633723850029879, 0.999093302951651, 0.9880103852774863, 0.011039222181871356, 0.05729435305349734, 0.05985977184693752, 0.011116814771574111, 0.8713872501718476, 0.005860835188308362, 0.9904811468241133, 0.9826078465554291, 0.9988573557477408, 0.9929278762036549, 0.0031373873668889118, 0.12863288204244538, 0.8235641838083393, 0.04392342313644476, 0.12212068710513058, 0.03358318895391091, 0.8449225039086222, 0.9955502783306985, 0.19142822156270486, 0.5811285758691156, 0.08071789363474727, 0.09621733954466133, 0.05072545934153694, 0.998407899223789, 0.9940827951401913, 0.9908715961035368, 0.9980019562185143, 0.9993575907468227, 0.9971177675130151, 0.9918935719874332, 0.19252565228197216, 0.2793034620107437, 0.24983936847492824, 0.20366550134482841, 0.07466927813871038, 0.08083699926380543, 0.03499650577884259, 0.7083095606224902, 0.17596834595840571, 0.999163783542277, 0.9886438991683659, 0.00646172483116579, 0.1460760073315582, 0.10450966378192782, 0.29172015654831507, 0.3404121589921678, 0.11724947816856778, 0.9964318965158027, 0.007440699298779152, 0.9896130067376272, 0.9884588328474588, 0.9984370382706855, 0.9806422095592581, 0.01969161063372004, 0.08958661778766996, 0.2783070403681192, 0.13993822048584942, 0.15765936896793598, 0.33447850363790643, 0.024413457588134155, 0.9738256971266847, 0.013626139648097956, 0.9849752374196523, 0.001946591378299708, 0.9877746944631282, 0.008096513889042034, 0.9964558333742344, 0.046432983355912276, 0.0992339187149211, 0.12072575672537192, 0.6389178509773529, 0.09472328604606105, 0.9574875132532538, 0.0012598519911227023, 0.00041995066370756746, 0.03443595442402053, 0.006299259955613512, 0.9971367060582033, 0.007474234324483108, 0.04613003997141918, 0.11853668498984929, 0.6047122708152114, 0.2231759655326128, 0.37093428824285324, 0.13332014893132232, 0.36572959774403285, 0.11340219875314428, 0.016614973515465092, 0.7097495541469309, 0.256593170834394, 0.00027920910863372576, 0.033225883927413366, 0.9991552724433216, 0.17861327481930472, 0.1822397072815831, 0.2880489076050211, 0.3511212899236345, 0.2010387136096437, 0.3125278888630987, 0.43521075641107726, 0.05104323686302758, 0.00022387384589047185, 0.9388311402501562, 0.06063720059522167, 0.18241774648727435, 0.04033111846854621, 0.23358846338199157, 0.511902477026923, 0.03163990891963431, 0.23436417091404455, 0.24703945527920296, 0.16253755951148036, 0.261772177106532, 0.09431146366771474, 0.9981763097606919, 0.34792531615136735, 0.12298353476542538, 0.5290884153725678, 0.997560903570977, 0.9932821287120333, 0.07017073021418112, 0.02631402383031792, 0.8823969324433276, 0.00877134127677264, 0.012279877787481696, 0.8797837234932404, 0.11981974368027638, 0.002344430032473238, 0.9963827638011261, 0.9991298498595556, 0.0034525740471237623, 0.0566222143728297, 0.8838589560636831, 0.05593169956340495, 0.29047072891485826, 0.3278149598918289, 0.16425845956035967, 0.029622679459175977, 0.18770389780529992, 0.03751372594434322, 0.23053889762160013, 0.731858689786914, 0.9952481618134285, 0.9990476161267343, 0.9941011722530683, 0.07624718772067463, 0.021994381073271528, 0.11070505140213335, 0.7654044613498492, 0.025660111252150116, 0.9952481637625858, 0.032653917173679665, 0.08835765823466263, 0.5205418561215994, 0.32109685220785006, 0.03745596381686785, 0.0005319798060954345, 0.1622538408591075, 0.017555333601149335, 0.8197808811930645, 0.9924633830103199, 0.05082942980160798, 0.9476057984442631, 0.0018153367786288563, 0.9975435099634312, 0.995952048311928, 0.11820668275272993, 0.1307176090294787, 0.16825038785972507, 0.5266093336259088, 0.05608346261990836, 0.24116991332045631, 0.0695489998994677, 0.6884850637530039, 0.7560442724900515, 0.0007377241234249974, 0.07844466512419139, 0.16488134158548692, 0.02398490309489572, 0.12563520668754902, 0.1431479930742983, 0.7069835721781168, 0.9928981900234255, 0.0568808458494408, 0.21575493253236164, 0.7015304321431032, 0.025498310208370012, 0.005538779183133014, 0.9914414737808095, 0.9711552271845774, 0.027279641213049925, 0.21661044408554442, 0.00048731258511933504, 0.7767762606802201, 0.006091407313991688, 0.9973615738941783, 0.0013828119234785077, 0.9970073968280041, 0.0013828119234785077, 0.993331706864004, 0.997026641170425, 0.0029734630381572477, 0.5061147087052915, 0.4392900393740734, 0.0516443580311522, 0.7346106482951122, 0.26513967871628213, 0.00035373555917266015, 0.02653016693794951, 0.23205052681726504, 0.6430912465758961, 0.09798474989082685, 0.834234821524949, 0.08396043844487491, 0.08151972802496577, 0.8477036665500332, 0.0270765298898045, 0.0010414049957617115, 0.07758467218424751, 0.04686322480927702, 0.9979101787967113], \"Term\": [\"06\", \"17\", \"2010\", \"2010\", \"2010\", \"2011\", \"2011\", \"2011\", \"2012\", \"2012\", \"2012\", \"2012\", \"2016\", \"2016\", \"2016\", \"2016\", \"2017\", \"2017\", \"2017\", \"2017\", \"2017\", \"2018\", \"2018\", \"2018\", \"2018\", \"2018\", \"2028\", \"2028\", \"2031\", \"2032\", \"2033\", \"22\", \"33\", \"abras\", \"acacia\", \"acid\", \"acid\", \"acid\", \"acid\", \"acid\", \"aftertast\", \"age\", \"age\", \"age\", \"age\", \"ageabl\", \"ageabl\", \"aglianico\", \"aglianico\", \"alcohol\", \"alcohol\", \"alcohol\", \"alcohol\", \"alcohol\", \"alentejo\", \"alexand\", \"almond\", \"almond\", \"almond\", \"almond\", \"almond\", \"alongsid\", \"alongsid\", \"alvarinho\", \"anis\", \"anis\", \"anis\", \"anis\", \"anywher\", \"appl\", \"appl\", \"apricot\", \"apricot\", \"arinto\", \"aroma\", \"aroma\", \"aroma\", \"aroma\", \"aroma\", \"asphalt\", \"assert\", \"assert\", \"assert\", \"attract\", \"attract\", \"attract\", \"attract\", \"balanc\", \"balanc\", \"balanc\", \"balanc\", \"balanc\", \"balsam\", \"balsam\", \"balsam\", \"barbecu\", \"barbecu\", \"bark\", \"bark\", \"barolo\", \"barolo\", \"barrel\", \"barrel\", \"barrel\", \"barrel\", \"beaujolai\", \"berri\", \"berri\", \"berri\", \"berri\", \"berri\", \"best\", \"best\", \"best\", \"best\", \"best\", \"black\", \"black\", \"black\", \"black\", \"blackberri\", \"blackberri\", \"blackberri\", \"blackberri\", \"blacken\", \"blackfruit\", \"blackfruit\", \"blackfruit\", \"blackskin\", \"blend\", \"blend\", \"blend\", \"blend\", \"blend\", \"blocki\", \"blossom\", \"blue\", \"blue\", \"boysenberri\", \"boysenberri\", \"boysenberri\", \"bright\", \"bright\", \"bright\", \"bright\", \"bright\", \"bubbl\", \"bubbl\", \"bubbl\", \"burger\", \"butter\", \"butter\", \"butter\", \"butter\", \"buy\", \"ca\", \"cabernet\", \"cabernet\", \"cabernet\", \"cabernet\", \"california\", \"california\", \"campfir\", \"canaiolo\", \"carmen\\u00e8r\", \"carnero\", \"carnero\", \"case\", \"case\", \"case\", \"case\", \"cassi\", \"cassi\", \"cassi\", \"cellar\", \"cellar\", \"cellar\", \"cellar\", \"centuri\", \"chabli\", \"champagn\", \"char\", \"char\", \"char\", \"charact\", \"charact\", \"charact\", \"charact\", \"charact\", \"chardonnay\", \"chardonnay\", \"chardonnay\", \"cherri\", \"cherri\", \"cherri\", \"cherri\", \"cherri\", \"chianti\", \"chianti\", \"chocol\", \"chocol\", \"chocol\", \"chocol\", \"choppi\", \"ch\\u00e2teau\", \"cinnamon\", \"cinnamon\", \"cinnamon\", \"cinnamon\", \"citru\", \"citru\", \"clean\", \"clean\", \"clean\", \"clean\", \"clean\", \"closegrain\", \"clove\", \"clove\", \"clove\", \"coffe\", \"coffe\", \"coffe\", \"cola\", \"cola\", \"cola\", \"cola\", \"colorino\", \"complex\", \"complex\", \"complex\", \"complex\", \"complex\", \"compost\", \"compost\", \"concentr\", \"concentr\", \"concentr\", \"concentr\", \"concentr\", \"confectionari\", \"confectionari\", \"corvina\", \"counti\", \"counti\", \"counti\", \"crisp\", \"crisp\", \"crisp\", \"crisp\", \"crisp\", \"cru\", \"crush\", \"crush\", \"crush\", \"crush\", \"currant\", \"currant\", \"currant\", \"currant\", \"custard\", \"dark\", \"dark\", \"dark\", \"dark\", \"dark\", \"darkskin\", \"davola\", \"decant\", \"decant\", \"decant\", \"deliv\", \"deliv\", \"deliv\", \"deliv\", \"dens\", \"dens\", \"dens\", \"dens\", \"dens\", \"doe\", \"dole\", \"dole\", \"douro\", \"dri\", \"dri\", \"dri\", \"dri\", \"dri\", \"drink\", \"drink\", \"drink\", \"drink\", \"drink\", \"drunk\", \"drunk\", \"d\\u00e3o\", \"earn\", \"earthi\", \"earthi\", \"earthi\", \"earthi\", \"earthi\", \"elabor\", \"elderberri\", \"elderberri\", \"enorm\", \"enorm\", \"enorm\", \"espresso\", \"espresso\", \"espresso\", \"expens\", \"extraordinarili\", \"fanci\", \"feel\", \"feel\", \"feel\", \"feel\", \"feel\", \"final\", \"final\", \"final\", \"final\", \"fine\", \"fine\", \"fine\", \"fine\", \"fine\", \"finegrain\", \"finish\", \"finish\", \"finish\", \"finish\", \"finish\", \"firm\", \"firm\", \"firm\", \"firm\", \"firm\", \"flamboy\", \"flashi\", \"flashi\", \"fleet\", \"floor\", \"floor\", \"forest\", \"forest\", \"forest\", \"framework\", \"franc\", \"franc\", \"franc\", \"fresh\", \"fresh\", \"fresh\", \"fresh\", \"fresh\", \"fruit\", \"fruit\", \"fruit\", \"fruit\", \"fruit\", \"fruiti\", \"fruiti\", \"fruiti\", \"fruiti\", \"fruiti\", \"full\", \"full\", \"full\", \"full\", \"full\", \"garnacha\", \"garnacha\", \"give\", \"give\", \"give\", \"give\", \"give\", \"golden\", \"golden\", \"good\", \"good\", \"good\", \"good\", \"good\", \"grabbi\", \"grand\", \"grapefruit\", \"grapefruit\", \"great\", \"great\", \"great\", \"great\", \"great\", \"green\", \"green\", \"green\", \"green\", \"green\", \"grenach\", \"grenach\", \"grenach\", \"grenach\", \"grigio\", \"guava\", \"herb\", \"herb\", \"herb\", \"herb\", \"herb\", \"herbal\", \"herbal\", \"herbal\", \"herbal\", \"higher\", \"higher\", \"higher\", \"hint\", \"hint\", \"hint\", \"hint\", \"hint\", \"honey\", \"honey\", \"honeydew\", \"honeysuckl\", \"iri\", \"it\", \"it\", \"it\", \"it\", \"it\", \"jam\", \"jam\", \"jam\", \"jam\", \"jasmin\", \"juici\", \"juici\", \"juici\", \"juici\", \"juici\", \"leather\", \"leather\", \"leather\", \"leatheri\", \"leatheri\", \"leesi\", \"lemon\", \"lemon\", \"lemonlim\", \"licoric\", \"licoric\", \"licoric\", \"lie\", \"light\", \"light\", \"light\", \"light\", \"light\", \"like\", \"like\", \"like\", \"like\", \"lime\", \"lime\", \"littl\", \"littl\", \"littl\", \"littl\", \"loam\", \"loami\", \"lodi\", \"loir\", \"malbec\", \"malbec\", \"malbec\", \"malolact\", \"marasca\", \"mascales\", \"medicin\", \"medicin\", \"mediterranean\", \"mediterranean\", \"mediumterm\", \"melon\", \"melon\", \"mendocino\", \"menthol\", \"menthol\", \"merlot\", \"merlot\", \"merlot\", \"merlot\", \"meyer\", \"meyer\", \"miner\", \"miner\", \"miner\", \"miner\", \"miner\", \"minti\", \"minti\", \"mix\", \"mix\", \"mix\", \"mix\", \"mix\", \"morello\", \"mourv\\u00e8dr\", \"mourv\\u00e8dr\", \"mourv\\u00e8dr\", \"murki\", \"mushroomi\", \"nacion\", \"napa\", \"nebbiolo\", \"nebbiolo\", \"nebbiolo\", \"nectarin\", \"need\", \"need\", \"need\", \"need\", \"negroamaro\", \"nerello\", \"nero\", \"nero\", \"next\", \"next\", \"next\", \"noir\", \"noir\", \"noir\", \"nose\", \"nose\", \"nose\", \"nose\", \"note\", \"note\", \"note\", \"note\", \"note\", \"notion\", \"notion\", \"now\", \"now\", \"now\", \"now\", \"nt\", \"nt\", \"nt\", \"nt\", \"nt\", \"oak\", \"oak\", \"oak\", \"oak\", \"oak\", \"offdri\", \"offdri\", \"offer\", \"offer\", \"offer\", \"offer\", \"offer\", \"oliv\", \"oliv\", \"oliv\", \"one\", \"one\", \"one\", \"one\", \"one\", \"open\", \"open\", \"open\", \"open\", \"open\", \"orang\", \"orang\", \"orang\", \"orang\", \"orang\", \"orchard\", \"oregano\", \"oregano\", \"palat\", \"palat\", \"palat\", \"palat\", \"palat\", \"papaya\", \"parcel\", \"passion\", \"peach\", \"peach\", \"pear\", \"pear\", \"peel\", \"peel\", \"peel\", \"pencil\", \"pencil\", \"peopl\", \"pepper\", \"pepper\", \"pepper\", \"pepper\", \"pepper\", \"perfum\", \"perfum\", \"perfum\", \"perfum\", \"perfum\", \"persimmon\", \"persimmon\", \"petit\", \"petit\", \"petrol\", \"pineappl\", \"pineappl\", \"pineappl\", \"pinot\", \"pinot\", \"pinot\", \"pinot\", \"pinot\", \"pith\", \"pithi\", \"plum\", \"plum\", \"plum\", \"plum\", \"plum\", \"polish\", \"polish\", \"polish\", \"polish\", \"polish\", \"porcini\", \"porti\", \"portug\", \"potenti\", \"potenti\", \"potenti\", \"premier\", \"price\", \"price\", \"price\", \"problem\", \"prosecco\", \"provenc\", \"provenc\", \"purpl\", \"purpl\", \"purpl\", \"quinta\", \"raspberri\", \"raspberri\", \"raspberri\", \"raspberri\", \"raspberri\", \"re\", \"re\", \"re\", \"readi\", \"readi\", \"readi\", \"record\", \"red\", \"red\", \"red\", \"red\", \"red\", \"reduc\", \"reduc\", \"refresh\", \"refresh\", \"refresh\", \"resini\", \"resini\", \"rich\", \"rich\", \"rich\", \"rich\", \"rich\", \"riesl\", \"riesl\", \"rind\", \"ripe\", \"ripe\", \"ripe\", \"ripe\", \"ripe\", \"robl\", \"robl\", \"rooti\", \"rose\", \"rose\", \"rose\", \"rose\", \"rosso\", \"roussann\", \"rubber\", \"rubber\", \"rubberi\", \"russian\", \"russian\", \"sage\", \"sage\", \"sage\", \"sage\", \"sagebrush\", \"sagebrush\", \"sagrantino\", \"sampl\", \"sancerr\", \"sandalwood\", \"sandalwood\", \"sandalwood\", \"sandalwood\", \"sangioves\", \"sangioves\", \"sangioves\", \"sauci\", \"sauvignon\", \"sauvignon\", \"sauvignon\", \"sauvignon\", \"sauvignon\", \"scorch\", \"score\", \"scouri\", \"scratchi\", \"screwcap\", \"seafood\", \"sh\", \"show\", \"show\", \"show\", \"show\", \"show\", \"silki\", \"silki\", \"silki\", \"silki\", \"slender\", \"smaller\", \"smaller\", \"soft\", \"soft\", \"soft\", \"soft\", \"soft\", \"sonoma\", \"sound\", \"sound\", \"soupi\", \"sparkler\", \"spent\", \"spent\", \"spice\", \"spice\", \"spice\", \"spice\", \"spice\", \"stainless\", \"stainless\", \"steak\", \"steak\", \"steak\", \"stem\", \"stem\", \"stewi\", \"still\", \"still\", \"still\", \"still\", \"still\", \"stone\", \"stone\", \"stone\", \"stone\", \"stone\", \"stonefruit\", \"structur\", \"structur\", \"structur\", \"structur\", \"structur\", \"sweet\", \"sweet\", \"sweet\", \"sweet\", \"sweet\", \"syrah\", \"syrah\", \"syrah\", \"syrah\", \"tangerin\", \"tannin\", \"tannin\", \"tannin\", \"tannin\", \"tast\", \"tast\", \"tast\", \"tast\", \"tast\", \"tempranillo\", \"tempranillo\", \"textur\", \"textur\", \"textur\", \"textur\", \"textur\", \"thi\", \"thi\", \"thi\", \"thi\", \"thi\", \"till\", \"tobacco\", \"tobacco\", \"tobacco\", \"touriga\", \"track\", \"tri\", \"tri\", \"tri\", \"tri\", \"tri\", \"tropic\", \"tropic\", \"truffl\", \"truffl\", \"underbrush\", \"valley\", \"valley\", \"valley\", \"valley\", \"vanilla\", \"vanilla\", \"vanilla\", \"vanilla\", \"vanilla\", \"velveti\", \"velveti\", \"velveti\", \"verd\", \"verdot\", \"villag\", \"vine\", \"vine\", \"vine\", \"vine\", \"vine\", \"vinho\", \"vintag\", \"vintag\", \"vintag\", \"vintag\", \"vintag\", \"violet\", \"violet\", \"violet\", \"violet\", \"volatil\", \"wait\", \"wait\", \"wait\", \"walla\", \"waxi\", \"well\", \"well\", \"well\", \"well\", \"well\", \"whiff\", \"whiff\", \"whiff\", \"white\", \"white\", \"white\", \"white\", \"wild\", \"wild\", \"wild\", \"wild\", \"willamett\", \"wineri\", \"wineri\", \"wineri\", \"wineri\", \"wiri\", \"wiri\", \"wo\", \"wo\", \"wood\", \"wood\", \"wood\", \"wood\", \"woodag\", \"woodi\", \"woodi\", \"woodi\", \"woodland\", \"woodspic\", \"year\", \"year\", \"year\", \"year\", \"yellow\", \"yellow\", \"young\", \"young\", \"young\", \"young\", \"young\", \"zest\", \"zest\", \"zest\", \"zesti\", \"zesti\", \"zesti\", \"zesti\", \"zesti\", \"zin\"]}, \"R\": 30, \"lambda.step\": 0.01, \"plot.opts\": {\"xlab\": \"PC1\", \"ylab\": \"PC2\"}, \"topic.order\": [1, 4, 5, 3, 2]};\n",
              "\n",
              "function LDAvis_load_lib(url, callback){\n",
              "  var s = document.createElement('script');\n",
              "  s.src = url;\n",
              "  s.async = true;\n",
              "  s.onreadystatechange = s.onload = callback;\n",
              "  s.onerror = function(){console.warn(\"failed to load library \" + url);};\n",
              "  document.getElementsByTagName(\"head\")[0].appendChild(s);\n",
              "}\n",
              "\n",
              "if(typeof(LDAvis) !== \"undefined\"){\n",
              "   // already loaded: just create the visualization\n",
              "   !function(LDAvis){\n",
              "       new LDAvis(\"#\" + \"ldavis_el1481400038215548083722461563\", ldavis_el1481400038215548083722461563_data);\n",
              "   }(LDAvis);\n",
              "}else if(typeof define === \"function\" && define.amd){\n",
              "   // require.js is available: use it to load d3/LDAvis\n",
              "   require.config({paths: {d3: \"https://cdnjs.cloudflare.com/ajax/libs/d3/3.5.5/d3.min\"}});\n",
              "   require([\"d3\"], function(d3){\n",
              "      window.d3 = d3;\n",
              "      LDAvis_load_lib(\"https://cdn.rawgit.com/bmabey/pyLDAvis/files/ldavis.v1.0.0.js\", function(){\n",
              "        new LDAvis(\"#\" + \"ldavis_el1481400038215548083722461563\", ldavis_el1481400038215548083722461563_data);\n",
              "      });\n",
              "    });\n",
              "}else{\n",
              "    // require.js not available: dynamically load d3 & LDAvis\n",
              "    LDAvis_load_lib(\"https://cdnjs.cloudflare.com/ajax/libs/d3/3.5.5/d3.min.js\", function(){\n",
              "         LDAvis_load_lib(\"https://cdn.rawgit.com/bmabey/pyLDAvis/files/ldavis.v1.0.0.js\", function(){\n",
              "                 new LDAvis(\"#\" + \"ldavis_el1481400038215548083722461563\", ldavis_el1481400038215548083722461563_data);\n",
              "            })\n",
              "         });\n",
              "}\n",
              "</script>"
            ],
            "text/plain": [
              "PreparedData(topic_coordinates=            Freq  cluster  topics         x         y\n",
              "topic                                                \n",
              "0      24.622065        1       1 -0.007527 -0.201865\n",
              "3      22.432662        1       2  0.086341  0.025763\n",
              "4      20.337321        1       3 -0.064625  0.092014\n",
              "2      18.675758        1       4 -0.185202  0.034186\n",
              "1      13.932194        1       5  0.171014  0.049902, topic_info=      Category          Freq       Term         Total  loglift  logprob\n",
              "term                                                                   \n",
              "2962   Default  20998.000000     cherri  20998.000000  30.0000  30.0000\n",
              "10039  Default  25103.000000      palat  25103.000000  29.0000  29.0000\n",
              "1133   Default  27018.000000      aroma  27018.000000  28.0000  28.0000\n",
              "13709  Default  21784.000000     tannin  21784.000000  27.0000  27.0000\n",
              "684    Default   8796.000000        age   8796.000000  26.0000  26.0000\n",
              "1032   Default   9521.000000       appl   9521.000000  25.0000  25.0000\n",
              "1792   Default  16948.000000      black  16948.000000  24.0000  24.0000\n",
              "4526   Default  21490.000000      drink  21490.000000  23.0000  23.0000\n",
              "10212  Default   6100.000000      peach   6100.000000  22.0000  22.0000\n",
              "1670   Default  11851.000000      berri  11851.000000  21.0000  21.0000\n",
              "5789   Default   7798.000000     fruiti   7798.000000  20.0000  20.0000\n",
              "3168   Default   7436.000000      citru   7436.000000  19.0000  19.0000\n",
              "7820   Default   5862.000000      lemon   5862.000000  18.0000  18.0000\n",
              "5771   Default  38809.000000      fruit  38809.000000  17.0000  17.0000\n",
              "5343   Default  26552.000000     finish  26552.000000  16.0000  16.0000\n",
              "7234   Default  28924.000000         it  28924.000000  15.0000  15.0000\n",
              "11297  Default  12685.000000        red  12685.000000  14.0000  14.0000\n",
              "10229  Default   5641.000000       pear   5641.000000  13.0000  13.0000\n",
              "15321  Default   8133.000000      white   8133.000000  12.0000  12.0000\n",
              "13279  Default   8562.000000   structur   8562.000000  11.0000  11.0000\n",
              "3869   Default   8885.000000      crisp   8885.000000  10.0000  10.0000\n",
              "9697   Default  10751.000000      offer  10751.000000   9.0000   9.0000\n",
              "11562  Default  14484.000000       rich  14484.000000   8.0000   8.0000\n",
              "823    Default   3508.000000   alongsid   3508.000000   7.0000   7.0000\n",
              "576    Default  25830.000000       acid  25830.000000   6.0000   6.0000\n",
              "9532   Default  16482.000000       note  16482.000000   5.0000   5.0000\n",
              "2878   Default   5556.000000    charact   5556.000000   4.0000   4.0000\n",
              "9522   Default  11132.000000       nose  11132.000000   3.0000   3.0000\n",
              "10613  Default  10186.000000       plum  10186.000000   2.0000   2.0000\n",
              "2439   Default   7045.000000   cabernet   7045.000000   1.0000   1.0000\n",
              "...        ...           ...        ...           ...      ...      ...\n",
              "953     Topic5   1229.324705       anis   1758.082687   1.6132  -5.4794\n",
              "7914    Topic5   2235.790246    licoric   3982.141336   1.3937  -4.8812\n",
              "1792    Topic5   6750.110565      black  16948.440465   1.0504  -3.7763\n",
              "9697    Topic5   4706.863484      offer  10751.204036   1.1450  -4.1368\n",
              "13709   Topic5   7648.675727     tannin  21784.495043   0.9243  -3.6513\n",
              "10674   Topic5   1148.824218     polish   1692.554426   1.5835  -5.5471\n",
              "10297   Topic5   3094.440018     pepper   6681.048730   1.2013  -4.5562\n",
              "11297   Topic5   4810.139736        red  12685.797182   1.0012  -4.1151\n",
              "10039   Topic5   7752.170864      palat  25103.520740   0.7959  -3.6378\n",
              "9791    Topic5   2622.809590       open   5480.051537   1.2341  -4.7216\n",
              "12934   Topic5   5115.224390      spice  15292.462578   0.8758  -4.0536\n",
              "1670    Topic5   4274.710162      berri  11851.934925   0.9512  -4.2331\n",
              "1133    Topic5   7350.759632      aroma  27018.580698   0.6692  -3.6910\n",
              "14089   Topic5   1836.762755    tobacco   3472.009491   1.3342  -5.0778\n",
              "5365    Topic5   2387.375644       firm   6210.637734   1.0149  -4.8156\n",
              "9532    Topic5   3724.127611       note  16482.712384   0.4835  -4.3710\n",
              "3136    Topic5   1381.135264   cinnamon   2371.702402   1.4303  -5.3629\n",
              "6698    Topic5   2290.264544       herb   7101.421812   0.8393  -4.8571\n",
              "11207   Topic5   2240.095591  raspberri   7241.716627   0.7976  -4.8793\n",
              "4526    Topic5   3498.777070      drink  21490.243491   0.1558  -4.4334\n",
              "2182    Topic5   2191.332326     bright   7410.424160   0.7526  -4.9013\n",
              "10613   Topic5   2357.466201       plum  10186.662284   0.5075  -4.8282\n",
              "11608   Topic5   2831.844800       ripe  18836.350699   0.0761  -4.6449\n",
              "6800    Topic5   2072.796161       hint   7445.267147   0.6923  -4.9569\n",
              "4508    Topic5   2559.110317        dri  16133.455333   0.1297  -4.7462\n",
              "13922   Topic5   2566.761009        thi  27218.324265  -0.3903  -4.7432\n",
              "7406    Topic5   1918.599241      juici   6676.309387   0.7240  -5.0342\n",
              "5771    Topic5   2424.546745      fruit  38809.786539  -0.8021  -4.8002\n",
              "576     Topic5   2220.160260       acid  25830.726949  -0.4830  -4.8882\n",
              "7234    Topic5   1927.228134         it  28924.862733  -0.7377  -5.0297\n",
              "\n",
              "[450 rows x 6 columns], token_table=       Topic      Freq      Term\n",
              "term                            \n",
              "5          3  0.991228        06\n",
              "126        2  0.992764        17\n",
              "238        2  0.002114      2010\n",
              "238        3  0.858238      2010\n",
              "238        4  0.137403      2010\n",
              "240        2  0.002740      2011\n",
              "240        3  0.906930      2011\n",
              "240        4  0.087679      2011\n",
              "241        2  0.007046      2012\n",
              "241        3  0.878351      2012\n",
              "241        4  0.091593      2012\n",
              "241        5  0.021137      2012\n",
              "245        2  0.001414      2016\n",
              "245        3  0.026859      2016\n",
              "245        4  0.735089      2016\n",
              "245        5  0.236783      2016\n",
              "246        1  0.001019      2017\n",
              "246        2  0.000509      2017\n",
              "246        3  0.007130      2017\n",
              "246        4  0.841844      2017\n",
              "246        5  0.149729      2017\n",
              "247        1  0.000385      2018\n",
              "247        2  0.010395      2018\n",
              "247        3  0.041964      2018\n",
              "247        4  0.653711      2018\n",
              "247        5  0.293362      2018\n",
              "258        2  0.009777      2028\n",
              "258        5  0.982636      2028\n",
              "261        5  0.982658      2031\n",
              "262        5  0.982675      2032\n",
              "...      ...       ...       ...\n",
              "15470      2  0.216610      wood\n",
              "15470      3  0.000487      wood\n",
              "15470      4  0.776776      wood\n",
              "15470      5  0.006091      wood\n",
              "15471      4  0.997362    woodag\n",
              "15485      1  0.001383     woodi\n",
              "15485      2  0.997007     woodi\n",
              "15485      4  0.001383     woodi\n",
              "15489      5  0.993332  woodland\n",
              "15497      2  0.997027  woodspic\n",
              "15564      2  0.002973      year\n",
              "15564      3  0.506115      year\n",
              "15564      4  0.439290      year\n",
              "15564      5  0.051644      year\n",
              "15572      1  0.734611    yellow\n",
              "15572      4  0.265140    yellow\n",
              "15606      1  0.000354     young\n",
              "15606      2  0.026530     young\n",
              "15606      3  0.232051     young\n",
              "15606      4  0.643091     young\n",
              "15606      5  0.097985     young\n",
              "15640      1  0.834235      zest\n",
              "15640      4  0.083960      zest\n",
              "15640      5  0.081520      zest\n",
              "15642      1  0.847704     zesti\n",
              "15642      2  0.027077     zesti\n",
              "15642      3  0.001041     zesti\n",
              "15642      4  0.077585     zesti\n",
              "15642      5  0.046863     zesti\n",
              "15649      3  0.997910       zin\n",
              "\n",
              "[931 rows x 3 columns], R=30, lambda_step=0.01, plot_opts={'xlab': 'PC1', 'ylab': 'PC2'}, topic_order=[1, 4, 5, 3, 2])"
            ]
          },
          "metadata": {
            "tags": []
          },
          "execution_count": 14
        }
      ]
    },
    {
      "metadata": {
        "id": "kTbv4ErHYi6q",
        "colab_type": "text"
      },
      "cell_type": "markdown",
      "source": [
        "Interpretation:\n",
        "- Default circles represent LDA topics (area of the circles is proportionate to the proportion of all tokens comprised in the topic, e.g topic 1 which is most prevelant includes 24,6% of all tokens).\n",
        "- Blue bars represent frequency of the terms in the overall corpus (when no circle is selected) or in the specific topic (when a circle is selected). \n",
        "- Red bars represent the estimated number of times a given term was generated by a given topic.\n",
        "- Topic-term circles which appear after selecting a term are proportional to the frequencies with which a given term is estimated to have been generated by the topics.\n",
        "\n",
        "\n",
        "\n",
        "\n",
        "\n",
        "\n",
        "\n"
      ]
    },
    {
      "metadata": {
        "id": "6RIL9JkqYvkc",
        "colab_type": "text"
      },
      "cell_type": "markdown",
      "source": [
        "# Modelling\n",
        "      "
      ]
    },
    {
      "metadata": {
        "id": "nP4cyOiJLYRH",
        "colab_type": "text"
      },
      "cell_type": "markdown",
      "source": [
        "## Nominal Classification"
      ]
    },
    {
      "metadata": {
        "id": "CNjlmZVsBpCe",
        "colab_type": "text"
      },
      "cell_type": "markdown",
      "source": [
        "1) classification model: y (points) binned into 3 classes and treated as nominal variable"
      ]
    },
    {
      "metadata": {
        "id": "CDdW720goMHV",
        "colab_type": "code",
        "colab": {}
      },
      "cell_type": "code",
      "source": [
        "#bin y into 3 classes of equal size\n",
        "def bin_y(y):\n",
        "  return pd.cut(y, [80, 86, 93, 100], labels = [0, 1, 2], right=True, include_lowest=True)"
      ],
      "execution_count": 0,
      "outputs": []
    },
    {
      "metadata": {
        "id": "1kPwovQ-Opin",
        "colab_type": "code",
        "colab": {}
      },
      "cell_type": "code",
      "source": [
        "y_train = bin_y(y_train)\n",
        "y_val = bin_y(y_val)\n",
        "y_test = bin_y(y_test)"
      ],
      "execution_count": 0,
      "outputs": []
    },
    {
      "metadata": {
        "id": "TnyYkNdqXWpG",
        "colab_type": "code",
        "outputId": "adc98584-f11c-4d88-e4c5-9012b7b20824",
        "colab": {
          "base_uri": "https://localhost:8080/",
          "height": 102
        }
      },
      "cell_type": "code",
      "source": [
        "print(f\"Number of observations in the classes:\\n{bin_y(y).value_counts()}\")"
      ],
      "execution_count": 0,
      "outputs": [
        {
          "output_type": "stream",
          "text": [
            "Number of observations in the classes:\n",
            "1    81265\n",
            "0    32674\n",
            "2     6016\n",
            "Name: points, dtype: int64\n"
          ],
          "name": "stdout"
        }
      ]
    },
    {
      "metadata": {
        "id": "HGqkDUlBXqtD",
        "colab_type": "text"
      },
      "cell_type": "markdown",
      "source": [
        "I'm aware that the classes of y are imbalanced. However, I decided to go with it because another option, which was equal-frequency binning gave the following bins:"
      ]
    },
    {
      "metadata": {
        "id": "Bm9VzMB6YBMX",
        "colab_type": "code",
        "outputId": "7b113154-6231-4114-e4d5-6510404535a1",
        "colab": {
          "base_uri": "https://localhost:8080/",
          "height": 68
        }
      },
      "cell_type": "code",
      "source": [
        "equal_frequency = pd.qcut(y, 3, labels = [0, 1, 2])\n",
        "print(f\"Points in the first bin: {np.sort(y[ef==0].unique())}\")\n",
        "print(f\"Points in the second bin: {np.sort(y[ef==1].unique())}\")\n",
        "print(f\"Points in the third bin: {np.sort(y[ef==2].unique())}\")"
      ],
      "execution_count": 0,
      "outputs": [
        {
          "output_type": "stream",
          "text": [
            "Points in the first bin: [80 81 82 83 84 85 86 87]\n",
            "Points in the second bin: [88 89 90]\n",
            "Points in the third bin: [ 91  92  93  94  95  96  97  98  99 100]\n"
          ],
          "name": "stdout"
        }
      ]
    },
    {
      "metadata": {
        "id": "sCv3wIzJYPQb",
        "colab_type": "text"
      },
      "cell_type": "markdown",
      "source": [
        "I don't think it's practical to discern between such imbalanced sized bins as: 88-90 and 91-100 points wines. "
      ]
    },
    {
      "metadata": {
        "id": "BxJTj5_j9xF3",
        "colab_type": "text"
      },
      "cell_type": "markdown",
      "source": [
        "### Logistic Regression and XGBoost"
      ]
    },
    {
      "metadata": {
        "id": "E5fEdhPfyThl",
        "colab_type": "text"
      },
      "cell_type": "markdown",
      "source": [
        "First I will search for the best parameters for Logistic Regression and XGBoost, fit both models with best parameters and save them to a file."
      ]
    },
    {
      "metadata": {
        "id": "zX_8hnL3aJhX",
        "colab_type": "code",
        "colab": {}
      },
      "cell_type": "code",
      "source": [
        "best_logisticregression = \"best_logisticregression.joblib\" \n",
        "best_xgboost = \"best_xgboost.joblib\"\n",
        "\n",
        "\n",
        "models = [LogisticRegression(), XGBClassifier(objective=\"multi:softmax\", num_class=3)]\n",
        "\n",
        "param_grids = [\n",
        "    {\"penalty\": [\"l1\",\"l2\"], \n",
        "     \"C\": ss.uniform(0.01,1)},\n",
        "    \n",
        "          {\"n_estimators\":ss.randint(10,300),\n",
        "           \"learning_rate\":ss.uniform(0.01,0.3),\n",
        "           \"max_depth\": ss.randint(5,30),\n",
        "           \"min_child_weight\":ss.randint(5,50),\n",
        "           \"reg_lambda\":ss.uniform(0.1,3)}\n",
        "]\n",
        "\n",
        "\n",
        "best_estimators =[]\n",
        "\n",
        "for model, param_grid in zip(models, param_grids):\n",
        "    \n",
        "    cv = RandomizedSearchCV(cv=5, \n",
        "                        estimator=model,\n",
        "                        param_distributions=param_grid,\n",
        "                        n_iter=30,\n",
        "                        verbose=2)\n",
        "    cv.fit(X_train_lda, y_train)\n",
        "    \n",
        "    best_estimators.append(cv.best_estimator_)\n",
        "    \n",
        "    print(accuracy_score(cv.best_estimator_.predict(X_val_lda),y_val),\n",
        "         cv.best_params_)\n",
        "    \n",
        "\n",
        "joblib.dump(best_estimators[0], best_logisticregression, compress=True)\n",
        "joblib.dump(best_estimators[1], best_xgboost, compress=True)"
      ],
      "execution_count": 0,
      "outputs": []
    },
    {
      "metadata": {
        "id": "kG-x59-hnhQI",
        "colab_type": "code",
        "outputId": "c19810af-1742-4adb-8423-3279fe7f1658",
        "colab": {
          "base_uri": "https://localhost:8080/",
          "height": 51
        }
      },
      "cell_type": "code",
      "source": [
        "best_logistic_regression = joblib.load(\"data/best_logisticregression.joblib\")\n",
        "best_xgbclassifier = joblib.load(\"data/best_xgbclassifier.joblib\")\n",
        "print(f\"Accuracy score for Logistic Regression: {accuracy_score(best_logistic_regression.predict(X_val_lda),y_val)}\")\n",
        "print(f\"Accuracy score for XGBoostClassifier: {accuracy_score(best_xgbclassifier.predict(X_val_lda),y_val)}\")"
      ],
      "execution_count": 0,
      "outputs": [
        {
          "output_type": "stream",
          "text": [
            "Accuracy score for Logistic Regression: 0.6726381170317097\n",
            "Accuracy score for XGBoostClassifier: 0.7367767244197451\n"
          ],
          "name": "stdout"
        }
      ]
    },
    {
      "metadata": {
        "id": "rEFR556KTrPO",
        "colab_type": "text"
      },
      "cell_type": "markdown",
      "source": [
        "### LSTM"
      ]
    },
    {
      "metadata": {
        "id": "a2KkvZ6ZRKDw",
        "colab_type": "text"
      },
      "cell_type": "markdown",
      "source": [
        "#### Text preprocessing for LSTM"
      ]
    },
    {
      "metadata": {
        "id": "E9z5fxBsjspK",
        "colab_type": "code",
        "colab": {}
      },
      "cell_type": "code",
      "source": [
        "# reapplying split on X\n",
        "X_train, X_test= train_test_split(X, test_size=0.15, \n",
        "                                                          random_state=42)\n",
        "X_train, X_val= train_test_split(X_train, test_size=0.15, \n",
        "                                                          random_state=52)\n",
        "\n",
        "# tokenizing and filtering out basic punctuation and setting to lowercase\n",
        "tokenizer = Tokenizer()\n",
        "tokenizer.fit_on_texts(X_train)\n",
        "\n",
        "# dictionary mapping words (str) to their index (int)\n",
        "word_index = tokenizer.word_index\n",
        "print(f\"Found {len(word_index)} unique tokens.\")\n",
        "print(word_index)\n",
        "\n",
        "# turning texts into sequences (list of word indexes)\n",
        "sequences_train = tokenizer.texts_to_sequences(X_train)\n",
        "sequences_test = tokenizer.texts_to_sequences(X_test)\n",
        "sequences_val = tokenizer.texts_to_sequences(X_val)\n",
        "\n",
        "# checking the length of the longest review\n",
        "max_len = max([len(x) for x in sequences_train+sequences_val+sequences_test])\n",
        "print(f\"The longest description has {max_len} words.\")\n",
        "\n",
        "# padding sequences so that they are of equal length\n",
        "X_train_nn = sequence.pad_sequences(sequences_train, max_len)\n",
        "X_test_nn = sequence.pad_sequences(sequences_test, max_len)\n",
        "X_val_nn = sequence.pad_sequences(sequences_val, max_len)"
      ],
      "execution_count": 0,
      "outputs": []
    },
    {
      "metadata": {
        "id": "FtOLJtjZFVpR",
        "colab_type": "code",
        "colab": {}
      },
      "cell_type": "code",
      "source": [
        "# turning y into one-hots\n",
        "nb_classes=3\n",
        "y_train = np_utils.to_categorical(y_train, nb_classes)\n",
        "y_test = np_utils.to_categorical(y_test, nb_classes)\n",
        "y_val = np_utils.to_categorical(y_val, nb_classes)"
      ],
      "execution_count": 0,
      "outputs": []
    },
    {
      "metadata": {
        "id": "MQFZirMoT8b-",
        "colab_type": "text"
      },
      "cell_type": "markdown",
      "source": [
        "#### Preparing pre-trained Embeddings"
      ]
    },
    {
      "metadata": {
        "id": "1zTALgoX9-t5",
        "colab_type": "text"
      },
      "cell_type": "markdown",
      "source": [
        "I will use pre-trained Glove embeddings.\n",
        "\n",
        "First I loaded the smallest Glove Embedding  model with 400 000 embeddings. As wines descriptions include some not-so-common word I checked if the vocabulary of the model is not to small. 68% of the vocabulary from wine reviews is coverd in the smallest Glove Model. So I tried bigger models. Best coverage was for the model with 1,9 M vocabulary - 75%. It's not perfect, but I will give it a try."
      ]
    },
    {
      "metadata": {
        "id": "5P2SrJUu98XE",
        "colab_type": "code",
        "colab": {}
      },
      "cell_type": "code",
      "source": [
        "# code to download, unzip, preprocess and load pre-trained Glove model with embeddings\n",
        "# I saved an array of filetered embeddings and load it below \n",
        "\n",
        "!wget http://nlp.stanford.edu/data/glove.42B.300d.zip\n",
        "!unzip glove.42B.300d.zip\n",
        "\n",
        "def load_glove_model(glove_input_file, word2vec_output_file=\"/final_project/gensim_glove_vectors.txt\"):\n",
        "  glove2word2vec(glove_input_file, word2vec_output_file)\n",
        "  return KeyedVectors.load_word2vec_format(word2vec_output_file, binary=False)\n",
        "glove_model = load_glove_model(\"glove.42B.300d.txt\")\n",
        "\n",
        "# creating embedding matrix containing only embeddings for words used in wines reviews\n",
        "\n",
        "emb_matrix = np.zeros((len(word_index), 300))\n",
        "for w, i in word_index.items():\n",
        "  try:\n",
        "    vect = glove_model[w]\n",
        "    if vect is not None:\n",
        "      emb_matrix[i] = vect\n",
        "  except:\n",
        "    pass\n",
        "\n",
        "joblib.dump(emb_matrix, \"emb_matrix.joblib\")"
      ],
      "execution_count": 0,
      "outputs": []
    },
    {
      "metadata": {
        "id": "RpuX1SEgkLXY",
        "colab_type": "code",
        "outputId": "e2418911-8c5c-4e28-e71c-85994aac6122",
        "colab": {
          "base_uri": "https://localhost:8080/",
          "height": 34
        }
      },
      "cell_type": "code",
      "source": [
        "# checking how many words from wines reviews are reprezented in pre-trained Glove Embeddings\n",
        "print(len(([key for key in word_index.keys() if key in glove_model]))/len(word_index))"
      ],
      "execution_count": 0,
      "outputs": [
        {
          "output_type": "stream",
          "text": [
            "0.7513528471282745\n"
          ],
          "name": "stdout"
        }
      ]
    },
    {
      "metadata": {
        "id": "i8eO6eKc5oEk",
        "colab_type": "code",
        "colab": {}
      },
      "cell_type": "code",
      "source": [
        "emb_matrix = joblib.load(\"data/emb_matrix.joblib\")"
      ],
      "execution_count": 0,
      "outputs": []
    },
    {
      "metadata": {
        "id": "9P2_GBlgtIpb",
        "colab_type": "text"
      },
      "cell_type": "markdown",
      "source": [
        "#### Learning model"
      ]
    },
    {
      "metadata": {
        "id": "eAtR2Ciuav9S",
        "colab_type": "text"
      },
      "cell_type": "markdown",
      "source": [
        "Now prepared texts and embeddings can be fed into Neural Network. I test several architectures for LSTM network.\n",
        "\n"
      ]
    },
    {
      "metadata": {
        "id": "UTKBcI7QNkON",
        "colab_type": "code",
        "colab": {}
      },
      "cell_type": "code",
      "source": [
        "def build_lstm_model_1(list_of_layers):\n",
        "  \n",
        "  model = Sequential()\n",
        "  model.add(Embedding(emb_matrix.shape[0],\n",
        "                      emb_matrix.shape[1], \n",
        "                      input_length=max_len,\n",
        "                      weights = [emb_matrix], \n",
        "                      trainable = False))\n",
        "  for layer in list_of_layers:\n",
        "    model.add(layer)\n",
        "  model.summary() \n",
        "  \n",
        "  model.compile(loss=\"categorical_crossentropy\",\n",
        "               optimizer=\"adam\", \n",
        "               metrics=[\"categorical_accuracy\"])\n",
        "  return model"
      ],
      "execution_count": 0,
      "outputs": []
    },
    {
      "metadata": {
        "id": "jSQg8sDEGW2Q",
        "colab_type": "code",
        "colab": {}
      },
      "cell_type": "code",
      "source": [
        "def evaluate_lstm_model(model, X_train, X_val, y_train, y_val, filename, batch_size=128):\n",
        "\n",
        "  early_stopping = EarlyStopping(patience=3, monitor=\"val_loss\")\n",
        "  take_best_model = ModelCheckpoint(str(filename)+\".h5py\", save_best_only=True)\n",
        "\n",
        "  model.fit(X_train, y_train, epochs=100, validation_split=0.2,\n",
        "           batch_size=batch_size, \n",
        "           callbacks=[early_stopping, take_best_model])\n",
        "\n",
        "  model.load_weights(str(filename)+\".h5py\")\n",
        "  return model.evaluate(X_val, y_val)[1]"
      ],
      "execution_count": 0,
      "outputs": []
    },
    {
      "metadata": {
        "id": "quvSlq44Z-6X",
        "colab_type": "code",
        "colab": {}
      },
      "cell_type": "code",
      "source": [
        "models = {        \n",
        "          \"clf_LSTM_300n\":      [LSTM(300),\n",
        "                                  Dense(3, activation=\"softmax\")],\n",
        "    \n",
        "          \"clf_LSTM_500n\":      [LSTM(500),\n",
        "                                  Dense(3, activation=\"softmax\")],\n",
        "    \n",
        "          \"clf_LSTM_1000n\":      [LSTM(1000),\n",
        "                                  Dense(3, activation=\"softmax\")],\n",
        "          \n",
        "          \"clf_BiLSTM_Dense\":          [Bidirectional(LSTM(100)),\n",
        "                                  Dense(3, activation=\"softmax\")],\n",
        "          \n",
        "          \"clf_MultipleLSTM_Dense\":    [LSTM(200, return_sequences=True),\n",
        "                                  LSTM(100),\n",
        "                                  Dense(3, activation=\"softmax\")],\n",
        "          \n",
        "          \"clf_LSTM_MultipleDense\":     [LSTM(100),\n",
        "                                  Dense(30, activation=\"relu\"),\n",
        "                                  Dense(3, activation=\"softmax\")],\n",
        "     \n",
        "         \n",
        "          \"clf_Conv_Pool_LSTM_Dense\": [Conv1D(32,3),\n",
        "                                   MaxPooling1D(pool_size=2),\n",
        "                                   LSTM(100),\n",
        "                                   Dense(3, activation=\"softmax\")],\n",
        "}\n",
        "\n"
      ],
      "execution_count": 0,
      "outputs": []
    },
    {
      "metadata": {
        "id": "vYqAxUY4YWmL",
        "colab_type": "code",
        "colab": {}
      },
      "cell_type": "code",
      "source": [
        "lst = []\n",
        "for model, params in models.items():\n",
        "  acc = (evaluate_lstm_model(build_lstm_model_1(params), X_train_nn, X_val_nn, y_train, y_val, model))\n",
        "  lst.append(acc)"
      ],
      "execution_count": 0,
      "outputs": []
    },
    {
      "metadata": {
        "id": "PJjRuy7vvqQm",
        "colab_type": "code",
        "colab": {}
      },
      "cell_type": "code",
      "source": [
        "lstm_1_results = pd.DataFrame(list(zip(models.keys(), lst)), columns=[\"model\", \"accuracy\"]).sort_values(by=\"accuracy\", ascending=False).reset_index(drop=True)\n",
        "print(lstm_1_results)"
      ],
      "execution_count": 0,
      "outputs": []
    },
    {
      "metadata": {
        "id": "22PV7u_9tKOD",
        "colab_type": "code",
        "outputId": "dcb59488-22a3-44e3-9b91-77e448cb3ace",
        "colab": {
          "base_uri": "https://localhost:8080/",
          "height": 266
        }
      },
      "cell_type": "code",
      "source": [
        "lstm_1_results"
      ],
      "execution_count": 0,
      "outputs": [
        {
          "output_type": "execute_result",
          "data": {
            "text/html": [
              "<div>\n",
              "<style scoped>\n",
              "    .dataframe tbody tr th:only-of-type {\n",
              "        vertical-align: middle;\n",
              "    }\n",
              "\n",
              "    .dataframe tbody tr th {\n",
              "        vertical-align: top;\n",
              "    }\n",
              "\n",
              "    .dataframe thead th {\n",
              "        text-align: right;\n",
              "    }\n",
              "</style>\n",
              "<table border=\"1\" class=\"dataframe\">\n",
              "  <thead>\n",
              "    <tr style=\"text-align: right;\">\n",
              "      <th></th>\n",
              "      <th>model</th>\n",
              "      <th>accuracy</th>\n",
              "    </tr>\n",
              "  </thead>\n",
              "  <tbody>\n",
              "    <tr>\n",
              "      <th>0</th>\n",
              "      <td>clf_LSTM_MultipleDense</td>\n",
              "      <td>0.818830</td>\n",
              "    </tr>\n",
              "    <tr>\n",
              "      <th>1</th>\n",
              "      <td>clf_LSTM_300n</td>\n",
              "      <td>0.817980</td>\n",
              "    </tr>\n",
              "    <tr>\n",
              "      <th>2</th>\n",
              "      <td>clf_LSTM_1000n</td>\n",
              "      <td>0.817914</td>\n",
              "    </tr>\n",
              "    <tr>\n",
              "      <th>3</th>\n",
              "      <td>clf_MultipleLSTM_Dense</td>\n",
              "      <td>0.817784</td>\n",
              "    </tr>\n",
              "    <tr>\n",
              "      <th>4</th>\n",
              "      <td>clf_BiLSTM_Dense</td>\n",
              "      <td>0.817522</td>\n",
              "    </tr>\n",
              "    <tr>\n",
              "      <th>5</th>\n",
              "      <td>clf_LSTM_500n</td>\n",
              "      <td>0.816999</td>\n",
              "    </tr>\n",
              "    <tr>\n",
              "      <th>6</th>\n",
              "      <td>clf_Conv_Pool_LSTM_Dense</td>\n",
              "      <td>0.808500</td>\n",
              "    </tr>\n",
              "  </tbody>\n",
              "</table>\n",
              "</div>"
            ],
            "text/plain": [
              "                      model  accuracy\n",
              "0    clf_LSTM_MultipleDense  0.818830\n",
              "1             clf_LSTM_300n  0.817980\n",
              "2            clf_LSTM_1000n  0.817914\n",
              "3    clf_MultipleLSTM_Dense  0.817784\n",
              "4          clf_BiLSTM_Dense  0.817522\n",
              "5             clf_LSTM_500n  0.816999\n",
              "6  clf_Conv_Pool_LSTM_Dense  0.808500"
            ]
          },
          "metadata": {
            "tags": []
          },
          "execution_count": 20
        }
      ]
    },
    {
      "metadata": {
        "id": "ewiDbiJoH0UK",
        "colab_type": "text"
      },
      "cell_type": "markdown",
      "source": [
        "### Score on test set"
      ]
    },
    {
      "metadata": {
        "id": "VbmI3dg9GyvY",
        "colab_type": "text"
      },
      "cell_type": "markdown",
      "source": [
        "The best model of all models tested for nominal classification is neural network with LSTM layer with 100 neurons, Dense layer with 30 neurons and output Dense layer. Let's check how it scores on test set."
      ]
    },
    {
      "metadata": {
        "id": "84Yp9wDzEhom",
        "colab_type": "code",
        "outputId": "edd152e3-adfc-4a7e-b4c0-54cdf69c3f4a",
        "colab": {
          "base_uri": "https://localhost:8080/",
          "height": 306
        }
      },
      "cell_type": "code",
      "source": [
        "# loading best model from a file and evaluating on test set\n",
        "\n",
        "best_nom_clf = build_lstm_model_1(models[\"clf_LSTM_MultipleDense\"])\n",
        "best_nom_clf.load_weights(\"data/best_nn_nom_clf.h5py\")\n",
        "best_nom_clf.compile(loss=\"categorical_crossentropy\",\n",
        "               optimizer=\"adam\", \n",
        "               metrics=[\"categorical_accuracy\"])\n",
        "best_nom_acc = best_nom_clf.evaluate(X_test_nn, y_test)[1]\n",
        "print(f\"Accuracy of best model for nominal classification: {best_nom_acc}\")"
      ],
      "execution_count": 0,
      "outputs": [
        {
          "output_type": "stream",
          "text": [
            "_________________________________________________________________\n",
            "Layer (type)                 Output Shape              Param #   \n",
            "=================================================================\n",
            "embedding_5 (Embedding)      (None, 136, 300)          9757200   \n",
            "_________________________________________________________________\n",
            "lstm_15 (LSTM)               (None, 100)               160400    \n",
            "_________________________________________________________________\n",
            "dense_14 (Dense)             (None, 30)                3030      \n",
            "_________________________________________________________________\n",
            "dense_15 (Dense)             (None, 3)                 93        \n",
            "=================================================================\n",
            "Total params: 9,920,723\n",
            "Trainable params: 163,523\n",
            "Non-trainable params: 9,757,200\n",
            "_________________________________________________________________\n",
            "17994/17994 [==============================] - 65s 4ms/step\n",
            "Accuracy of best model for nominal classification: 0.820162276320952\n"
          ],
          "name": "stdout"
        }
      ]
    },
    {
      "metadata": {
        "id": "ISSpo80SIqxI",
        "colab_type": "text"
      },
      "cell_type": "markdown",
      "source": [
        "## Ordinal Classification"
      ]
    },
    {
      "metadata": {
        "id": "4A9jqiJbZaM4",
        "colab_type": "text"
      },
      "cell_type": "markdown",
      "source": [
        "1) ordinal classification model: y (points) binned into 3 classes and treated as ordinal variable\n",
        "\n",
        "Taking into account that winemag.com publishes only reviews of wines over 80 points, classes in this approach could be understood as follows: 0 - average, 1- good, 2 - excellent."
      ]
    },
    {
      "metadata": {
        "id": "2P7HlwZbce-o",
        "colab_type": "text"
      },
      "cell_type": "markdown",
      "source": [
        "### Logistic Regression using mord package"
      ]
    },
    {
      "metadata": {
        "id": "QO3i-z1Ic9yB",
        "colab_type": "text"
      },
      "cell_type": "markdown",
      "source": [
        "My first approach will be to use mord package, which \"is a Python package that implements some ordinal regression methods following the scikit-learn API.\" (*mord 0.3 documentation*). I will use mord implementation of Logistic Regression for ordinal classification. The only hyperparameter that can be tuned is alpha, which is L2 regularization parameter."
      ]
    },
    {
      "metadata": {
        "id": "K-X_s2dRZoov",
        "colab_type": "code",
        "outputId": "e01fe5ed-93c1-416d-881c-15b4a1d92ec5",
        "colab": {
          "base_uri": "https://localhost:8080/",
          "height": 68
        }
      },
      "cell_type": "code",
      "source": [
        "param = {\"alpha\": [0.01, 0.1, 0.3, 0.5, 0.7, 0.9]}\n",
        "gs = GridSearchCV(mord.LogisticIT(), param, cv=5, scoring=\"accuracy\")\n",
        "gs.fit(X_train_lda, y_train)\n",
        "y_pred = gs.best_estimator_.predict(X_val_lda)\n",
        "print(\"Ordinal Logistic Regression:\")\n",
        "print(f\"Best regularization parameter: {gs.best_params_}\")\n",
        "print(f\"Accuracy score: {accuracy_score(y_val, y_pred)}\")"
      ],
      "execution_count": 0,
      "outputs": [
        {
          "output_type": "stream",
          "text": [
            "Ordinal Logistic Regression:\n",
            "Best regularization parameter: {'alpha': 0.01}\n",
            "Accuracy score: 0.6726381170317097\n"
          ],
          "name": "stdout"
        }
      ]
    },
    {
      "metadata": {
        "id": "qMlnCLiz5BfH",
        "colab_type": "text"
      },
      "cell_type": "markdown",
      "source": [
        "That's an interesting result. Ordinal Logistic Regression scored exacty the same as Logistic Regression for nominal classification. It is most probably coincidence but it shows that mord implementaction of Ordinal Logistic Regression doesn't improve the results. Maybe due to the lack of hyperparameters to tune."
      ]
    },
    {
      "metadata": {
        "id": "1badPH7B8eCa",
        "colab_type": "text"
      },
      "cell_type": "markdown",
      "source": [
        "### NNRank"
      ]
    },
    {
      "metadata": {
        "id": "MZyHwwsNdOZx",
        "colab_type": "text"
      },
      "cell_type": "markdown",
      "source": [
        "I build neural network architecture for ordinal classification (NNRank) basing on \"A Neural Network Approach to Ordinal Regression\" J.Chen, Z.Wang, G.Pollastri. Most important differences from standard neural network for classification include:\n",
        "\n",
        "- **target vector encoding:** \"If a data point x belongs to category k, it is classified\n",
        "automatically into lower-order categories (1, 2, ..., k − 1) as\n",
        "well. So the target vector of x is t = (1, 1, .., 1, 0, 0, 0),\n",
        "where ti (1 ≤ i ≤ k) is set to 1 and other elements\n",
        "zeros\" (*ibid.)*\n",
        "\n",
        "- **output layer:** number of nodes is equal to number of classes. However, instead of softmax function used in nominal classification, the authors used sigmoid function for each node so that it doesn't include the outputs from other nodes. Each output node calculates the probability of a data point belonging to class k independently.\n",
        "\n",
        "Because of the specific target encoding I can't use categorical or binary accuracy from keras metrics. I also can't use predict_classes method as it isn't suited for a situation where the probability in more than one output node is above the threshold (eg. >0.5). In order to calculate the true accuracy I have to bring the prediction probabilities vector for every data point back to the categorical encoding and compare the classes with y_val in the same encoding format. So I created **custom keras metric \"ordinal_accuracy\".**\n",
        "\n"
      ]
    },
    {
      "metadata": {
        "id": "P1iLaXxWWUQO",
        "colab_type": "code",
        "colab": {}
      },
      "cell_type": "code",
      "source": [
        "# encoding y so that the net learn the orderings\n",
        "# function takes binned y variable as input\n",
        "\n",
        "def make_ordinal_encoding(y):\n",
        "  ordinal= np.zeros((y.shape[0], 3), dtype=int)\n",
        "  ordinal[np.arange(y.shape[0]), y] = 1\n",
        "  ordinal[ordinal[:, 1] == 1, 0] = 1\n",
        "  ordinal[ordinal[:, 2] == 1, 0] = 1\n",
        "  ordinal[ordinal[:, 2] == 1, 1] = 1\n",
        "  return ordinal"
      ],
      "execution_count": 0,
      "outputs": []
    },
    {
      "metadata": {
        "id": "7FmZBCDm-Zx-",
        "colab_type": "code",
        "colab": {}
      },
      "cell_type": "code",
      "source": [
        "y_train_ord = make_ordinal_encoding(y_train)\n",
        "y_val_ord = make_ordinal_encoding(y_val)\n",
        "y_test_ord = make_ordinal_encoding(y_test)"
      ],
      "execution_count": 0,
      "outputs": []
    },
    {
      "metadata": {
        "id": "MlaQ_7FMLtN-",
        "colab_type": "code",
        "colab": {}
      },
      "cell_type": "code",
      "source": [
        "# defining custom keras metric to calculate ordinal_accuracy\n",
        "\n",
        "def ordinal_accuracy(y_true, y_pred):\n",
        "  y_pred_labels = K.round(y_pred)   # bringing probability output to ordinal encoding form\n",
        "  y_pred_class = K.sum(y_pred_labels, axis=-1)  # getting categorical class (actually class+1)\n",
        "  y_true_class = K.sum(y_true, axis=-1)         \n",
        "  return K.cast(K.equal(y_true_class, y_pred_class), K.floatx())"
      ],
      "execution_count": 0,
      "outputs": []
    },
    {
      "metadata": {
        "id": "h08KR8TRTvNP",
        "colab_type": "code",
        "colab": {}
      },
      "cell_type": "code",
      "source": [
        "def build_lstm_model_2(list_of_layers):\n",
        "  \n",
        "  model = Sequential()\n",
        "  model.add(Embedding(emb_matrix.shape[0],\n",
        "                      emb_matrix.shape[1], \n",
        "                      input_length=max_len,\n",
        "                      weights = [emb_matrix], \n",
        "                      trainable = False))\n",
        "  for layer in list_of_layers:\n",
        "    model.add(layer)\n",
        "  model.summary() \n",
        "  \n",
        "  model.compile(loss=\"mean_squared_error\",\n",
        "               optimizer=\"adam\", \n",
        "               metrics=[ordinal_accuracy])\n",
        "  return model"
      ],
      "execution_count": 0,
      "outputs": []
    },
    {
      "metadata": {
        "id": "PPqd5qi4Un6x",
        "colab_type": "code",
        "colab": {}
      },
      "cell_type": "code",
      "source": [
        "models = {        \n",
        "          \"ord_LSTM_300neurons\":      [LSTM(300),\n",
        "                                  Dense(3, activation=\"sigmoid\")],\n",
        "    \n",
        "          \"ord_LSTM_500neurons\":      [LSTM(500),\n",
        "                                  Dense(3, activation=\"sigmoid\")],\n",
        "    \n",
        "          \"ord_LSTM_1000neurons\":      [LSTM(1000),\n",
        "                                  Dense(3, activation=\"sigmoid\")],        \n",
        "          \n",
        "          \"ord_BiLSTM_Dense\":          [Bidirectional(LSTM(300)),\n",
        "                                  Dense(3, activation=\"sigmoid\")],\n",
        "          \n",
        "          \"ord_MultipleLSTM_Dense\":    [LSTM(200, return_sequences=True),\n",
        "                                  LSTM(100),\n",
        "                                  Dense(3, activation=\"sigmoid\")],\n",
        "          \n",
        "          \"ord_LSTM_MultipleDense\":     [LSTM(300),\n",
        "                                  Dense(30, activation=\"relu\"),\n",
        "                                  Dense(3, activation=\"sigmoid\")],\n",
        "     \n",
        "         \n",
        "          \"ord_Conv_Pool_LSTM_Dense\": [Conv1D(32,3),\n",
        "                                   MaxPooling1D(pool_size=2),\n",
        "                                   LSTM(100),\n",
        "                                   Dense(3, activation=\"sigmoid\")]\n",
        "}"
      ],
      "execution_count": 0,
      "outputs": []
    },
    {
      "metadata": {
        "id": "m-zRZHoVWjaj",
        "colab_type": "code",
        "colab": {}
      },
      "cell_type": "code",
      "source": [
        "lst = []\n",
        "for model, params in models.items():\n",
        "  acc = (evaluate_lstm_model(build_lstm_model_2(params), X_train_nn, X_val_nn, y_train_ord, y_val_ord, model))\n",
        "  lst.append(acc)"
      ],
      "execution_count": 0,
      "outputs": []
    },
    {
      "metadata": {
        "id": "YEsPVW-pWnTW",
        "colab_type": "code",
        "colab": {}
      },
      "cell_type": "code",
      "source": [
        "lstm_2_results = pd.DataFrame(list(zip(models.keys(), lst)), columns=[\"model\", \"accuracy\"]).sort_values(by=\"accuracy\", ascending=False).reset_index(drop=True)"
      ],
      "execution_count": 0,
      "outputs": []
    },
    {
      "metadata": {
        "id": "RrWb_4rd9_tf",
        "colab_type": "code",
        "outputId": "8e4b6d52-7850-4cca-8ddd-a0cf261f893f",
        "colab": {
          "base_uri": "https://localhost:8080/",
          "height": 266
        }
      },
      "cell_type": "code",
      "source": [
        "lstm_2_results"
      ],
      "execution_count": 0,
      "outputs": [
        {
          "output_type": "execute_result",
          "data": {
            "text/html": [
              "<div>\n",
              "<style scoped>\n",
              "    .dataframe tbody tr th:only-of-type {\n",
              "        vertical-align: middle;\n",
              "    }\n",
              "\n",
              "    .dataframe tbody tr th {\n",
              "        vertical-align: top;\n",
              "    }\n",
              "\n",
              "    .dataframe thead th {\n",
              "        text-align: right;\n",
              "    }\n",
              "</style>\n",
              "<table border=\"1\" class=\"dataframe\">\n",
              "  <thead>\n",
              "    <tr style=\"text-align: right;\">\n",
              "      <th></th>\n",
              "      <th>model</th>\n",
              "      <th>accuracy</th>\n",
              "    </tr>\n",
              "  </thead>\n",
              "  <tbody>\n",
              "    <tr>\n",
              "      <th>0</th>\n",
              "      <td>ord_MultipleLSTM_Dense</td>\n",
              "      <td>0.820137</td>\n",
              "    </tr>\n",
              "    <tr>\n",
              "      <th>1</th>\n",
              "      <td>ord_LSTM_MultipleDense</td>\n",
              "      <td>0.819941</td>\n",
              "    </tr>\n",
              "    <tr>\n",
              "      <th>2</th>\n",
              "      <td>ord_LSTM_500neurons</td>\n",
              "      <td>0.819483</td>\n",
              "    </tr>\n",
              "    <tr>\n",
              "      <th>3</th>\n",
              "      <td>ord_LSTM_1000neurons</td>\n",
              "      <td>0.818830</td>\n",
              "    </tr>\n",
              "    <tr>\n",
              "      <th>4</th>\n",
              "      <td>ord_LSTM_300neurons</td>\n",
              "      <td>0.816476</td>\n",
              "    </tr>\n",
              "    <tr>\n",
              "      <th>5</th>\n",
              "      <td>ord_BiLSTM_Dense</td>\n",
              "      <td>0.816280</td>\n",
              "    </tr>\n",
              "    <tr>\n",
              "      <th>6</th>\n",
              "      <td>ord_Conv_Pool_LSTM_Dense</td>\n",
              "      <td>0.804904</td>\n",
              "    </tr>\n",
              "  </tbody>\n",
              "</table>\n",
              "</div>"
            ],
            "text/plain": [
              "                      model  accuracy\n",
              "0    ord_MultipleLSTM_Dense  0.820137\n",
              "1    ord_LSTM_MultipleDense  0.819941\n",
              "2       ord_LSTM_500neurons  0.819483\n",
              "3      ord_LSTM_1000neurons  0.818830\n",
              "4       ord_LSTM_300neurons  0.816476\n",
              "5          ord_BiLSTM_Dense  0.816280\n",
              "6  ord_Conv_Pool_LSTM_Dense  0.804904"
            ]
          },
          "metadata": {
            "tags": []
          },
          "execution_count": 42
        }
      ]
    },
    {
      "metadata": {
        "id": "YHtwuJ_fK5PL",
        "colab_type": "text"
      },
      "cell_type": "markdown",
      "source": [
        "### Score on test set"
      ]
    },
    {
      "metadata": {
        "id": "gqDbN4mTLU_j",
        "colab_type": "text"
      },
      "cell_type": "markdown",
      "source": [
        "The best model for ordinal classification is the neural net with two LSTM layers (200 and 100 neurons) and a Dense layer. Let's check how it scores on the test set."
      ]
    },
    {
      "metadata": {
        "id": "x507I297K7aX",
        "colab_type": "code",
        "outputId": "998086a3-07bb-46a7-bf26-902d6405a6e4",
        "colab": {
          "base_uri": "https://localhost:8080/",
          "height": 306
        }
      },
      "cell_type": "code",
      "source": [
        "# loading best model from a file and evaluating on test set\n",
        "\n",
        "best_ord_clf = build_lstm_model_2(models[\"ord_MultipleLSTM_Dense\"])\n",
        "best_ord_clf.load_weights(\"data/best_nn_nom_ord.h5py\")\n",
        "best_ord_clf.compile(loss=\"mean_squared_error\",\n",
        "               optimizer=\"adam\", \n",
        "               metrics=[ordinal_accuracy])\n",
        "best_ord_acc = best_ord_clf.evaluate(X_test_nn, y_test_ord)[1]\n",
        "print(f\"Accuracy of the best model for ordinal classification: {best_ord_acc}\")"
      ],
      "execution_count": 0,
      "outputs": [
        {
          "output_type": "stream",
          "text": [
            "_________________________________________________________________\n",
            "Layer (type)                 Output Shape              Param #   \n",
            "=================================================================\n",
            "embedding_2 (Embedding)      (None, 136, 300)          9757200   \n",
            "_________________________________________________________________\n",
            "lstm_5 (LSTM)                (None, 136, 200)          400800    \n",
            "_________________________________________________________________\n",
            "lstm_6 (LSTM)                (None, 100)               120400    \n",
            "_________________________________________________________________\n",
            "dense_5 (Dense)              (None, 3)                 303       \n",
            "=================================================================\n",
            "Total params: 10,278,703\n",
            "Trainable params: 521,503\n",
            "Non-trainable params: 9,757,200\n",
            "_________________________________________________________________\n",
            "17994/17994 [==============================] - 125s 7ms/step\n",
            "Accuracy of the best model for ordinal classification: 0.8179948871713671\n"
          ],
          "name": "stdout"
        }
      ]
    },
    {
      "metadata": {
        "id": "cQS0WSME-tu_",
        "colab_type": "text"
      },
      "cell_type": "markdown",
      "source": [
        "## Regression\n",
        "\n",
        "3) Keeping target variable in its original form (points on scale 80-100)."
      ]
    },
    {
      "metadata": {
        "id": "SJyfNf0eCdQd",
        "colab_type": "code",
        "colab": {}
      },
      "cell_type": "code",
      "source": [
        "y_train, y_test = train_test_split(y, test_size=0.15, \n",
        "                                                    random_state=42)\n",
        "y_train, y_val = train_test_split(y_train, test_size=0.15, \n",
        "                                                          random_state=52)"
      ],
      "execution_count": 0,
      "outputs": []
    },
    {
      "metadata": {
        "id": "I-MsqJvF_O1j",
        "colab_type": "text"
      },
      "cell_type": "markdown",
      "source": [
        "### Linear Regression and XGBoost"
      ]
    },
    {
      "metadata": {
        "id": "YfOSqbwFAtD4",
        "colab_type": "text"
      },
      "cell_type": "markdown",
      "source": [
        "First I will search for the best parameters for Linear Regression and XGBoost. Both models will be learned on the dataset transformed so that it contains LDA features."
      ]
    },
    {
      "metadata": {
        "id": "rBej_cD7jKJW",
        "colab_type": "code",
        "outputId": "ed3eb7d3-badd-454a-9135-85db69c5c2b5",
        "colab": {
          "base_uri": "https://localhost:8080/",
          "height": 51
        }
      },
      "cell_type": "code",
      "source": [
        "model_linear_reg = LinearRegression()\n",
        "model_linear_reg.fit(X_train_lda, y_train)"
      ],
      "execution_count": 0,
      "outputs": [
        {
          "output_type": "execute_result",
          "data": {
            "text/plain": [
              "LinearRegression(copy_X=True, fit_intercept=True, n_jobs=None,\n",
              "         normalize=False)"
            ]
          },
          "metadata": {
            "tags": []
          },
          "execution_count": 58
        }
      ]
    },
    {
      "metadata": {
        "id": "2Ik8n3IzZomd",
        "colab_type": "code",
        "colab": {}
      },
      "cell_type": "code",
      "source": [
        "best_xgb = \"best_xgbregressor.joblib\"\n",
        "\n",
        "\n",
        "model = XGBRegressor(scoring=\"mean_squared_error\")\n",
        "\n",
        "param_grid = {\"n_estimators\":ss.randint(100,300),\n",
        "           \"learning_rate\":ss.uniform(0.01,0.3),\n",
        "           \"max_depth\": ss.randint(5,30),\n",
        "           \"min_child_weight\":ss.randint(1,50),\n",
        "           \"reg_lambda\":ss.uniform(0.1,3)}\n",
        "    \n",
        "cv = RandomizedSearchCV(cv=5, \n",
        "                        estimator=model,\n",
        "                        param_distributions=param_grid,\n",
        "                        n_iter=30,\n",
        "                        verbose=2)\n",
        "cv.fit(X_train_lda, y_train)\n",
        "    \n",
        "joblib.dump(cv.best_estimator_, best_xgb)\n",
        "    \n",
        "print(mean_squared_error(y_val, cv.best_estimator_.predict(X_val_lda)),\n",
        "         cv.best_params_)"
      ],
      "execution_count": 0,
      "outputs": []
    },
    {
      "metadata": {
        "id": "79yfQepwoZfb",
        "colab_type": "code",
        "colab": {}
      },
      "cell_type": "code",
      "source": [
        "best_xgbregressor = joblib.load(\"data/best_xgbregressor.joblib\")"
      ],
      "execution_count": 0,
      "outputs": []
    },
    {
      "metadata": {
        "id": "CFh5NQ9svA6E",
        "colab_type": "code",
        "outputId": "fa16c729-0fa8-49bb-f985-793f55701f43",
        "colab": {
          "base_uri": "https://localhost:8080/",
          "height": 170
        }
      },
      "cell_type": "code",
      "source": [
        "print(\"Linear Regression:\")\n",
        "print(f\"MSE: {mean_squared_error(y_val, model_linear_reg.predict(X_val_lda))}\")\n",
        "print(f\"MAE: {mean_absolute_error(y_val, model_linear_reg.predict(X_val_lda))}\")\n",
        "print(f\"R2: {r2_score(y_val, model_linear_reg.predict(X_val_lda))}\\n\")\n",
        "\n",
        "print(\"XGBRegressor: \")\n",
        "print(f\"MSE: {mean_squared_error(y_val, best_xgbregressor.predict(X_val_lda))}\")\n",
        "print(f\"MAE: {mean_absolute_error(y_val, best_xgbregressor.predict(X_val_lda))}\")\n",
        "print(f\"R2: {r2_score(y_val, best_xgbregressor.predict(X_val_lda))}\")"
      ],
      "execution_count": 0,
      "outputs": [
        {
          "output_type": "stream",
          "text": [
            "Linear Regression:\n",
            "MSE: 9.170182637761958\n",
            "MAE: 2.481524807848\n",
            "R2: 0.03655666894855314\n",
            "\n",
            "XGBRegressor: \n",
            "MSE: 5.690265062135028\n",
            "MAE: 1.9028470386356728\n",
            "R2: 0.4021658954257188\n"
          ],
          "name": "stdout"
        }
      ]
    },
    {
      "metadata": {
        "id": "ZZhCqQuhETeo",
        "colab_type": "text"
      },
      "cell_type": "markdown",
      "source": [
        "XGBRegressor scored better than Linear Regression. The results for XGBRegressor are rather satisfactory. Mean absolute error is 1,9 point whereas the scale comprises 20 points, so it's less than 10%. R2 maybe doesn't look amazing with 40% of variance in points explained by the model, but taking into account that rating of wine is quite subjective, the score is decent. "
      ]
    },
    {
      "metadata": {
        "id": "BhcVhb4p6qUY",
        "colab_type": "text"
      },
      "cell_type": "markdown",
      "source": [
        "**Comparing classification and regression results**\n",
        "\n",
        "\n",
        "In order to compare classification and regression results, I calculate accuracy for regression in the following way: for each prediction from regression model I indicate the class to which it would belong based on the bins used for classification. In the same way I bin y_test. Thaks to this trick I can calculate the accuracy and compare it with the accuracy of the classification models."
      ]
    },
    {
      "metadata": {
        "id": "todKWZqW9lY_",
        "colab_type": "code",
        "colab": {}
      },
      "cell_type": "code",
      "source": [
        "# function to calculate accuracy for regression models\n",
        "\n",
        "def calculate_regression_accuracy(bin_y, X, y, model):\n",
        "  reg_acc = accuracy_score(bin_y(y), bin_y(model.predict(X).flatten()))\n",
        "  return reg_acc"
      ],
      "execution_count": 0,
      "outputs": []
    },
    {
      "metadata": {
        "id": "VHsg7wf0zCnI",
        "colab_type": "code",
        "outputId": "b4245753-5fbe-4301-bc04-d83114308ec2",
        "colab": {
          "base_uri": "https://localhost:8080/",
          "height": 34
        }
      },
      "cell_type": "code",
      "source": [
        "linear_reg_acc = calculate_regression_accuracy(bin_y, X_val_lda, y_val, model_linear_reg)\n",
        "print(f\"Accuracy of Linear Regression: {linear_reg_acc}\")"
      ],
      "execution_count": 0,
      "outputs": [
        {
          "output_type": "stream",
          "text": [
            "Accuracy of Linear Regression: 0.6726381170317097\n"
          ],
          "name": "stdout"
        }
      ]
    },
    {
      "metadata": {
        "id": "Lwpx8HcS1dw2",
        "colab_type": "code",
        "outputId": "780d8acf-1315-4676-fcb4-b46f26a7711b",
        "colab": {
          "base_uri": "https://localhost:8080/",
          "height": 34
        }
      },
      "cell_type": "code",
      "source": [
        "xgb_reg_acc = calculate_regression_accuracy(bin_y, X_val_lda, y_val, best_xgbregressor)\n",
        "print(f\"Accuracy of XGBRegressor: {xgb_reg_acc}\")"
      ],
      "execution_count": 0,
      "outputs": [
        {
          "output_type": "stream",
          "text": [
            "Accuracy of XGBRegressor: 0.7289310232101994\n"
          ],
          "name": "stdout"
        }
      ]
    },
    {
      "metadata": {
        "id": "4dCxqPqbDE3U",
        "colab_type": "text"
      },
      "cell_type": "markdown",
      "source": [
        "### LSTM"
      ]
    },
    {
      "metadata": {
        "id": "X7xhNKVYDMLJ",
        "colab_type": "text"
      },
      "cell_type": "markdown",
      "source": [
        "As in classification I will use pre-trained Glove Embeddings with 1.9 M vocabulary. "
      ]
    },
    {
      "metadata": {
        "id": "Xc_1A4McZohR",
        "colab_type": "code",
        "colab": {}
      },
      "cell_type": "code",
      "source": [
        "def build_lstm_model_3(list_of_layers):\n",
        "  \n",
        "  model = Sequential()\n",
        "  model.add(Embedding(emb_matrix.shape[0],\n",
        "                      emb_matrix.shape[1], \n",
        "                      input_length=max_len,\n",
        "                      weights = [emb_matrix], \n",
        "                      trainable = False))\n",
        "  for layer in list_of_layers:\n",
        "    model.add(layer)\n",
        "  model.summary() \n",
        "  \n",
        "  model.compile(loss='mean_squared_error',\n",
        "               optimizer=\"adam\", \n",
        "               metrics=[\"mean_absolute_error\"])\n",
        "  return model"
      ],
      "execution_count": 0,
      "outputs": []
    },
    {
      "metadata": {
        "id": "OWvB1Za2Zoen",
        "colab_type": "code",
        "colab": {}
      },
      "cell_type": "code",
      "source": [
        "models =  {       \n",
        "          \"LSTM_300neurons\":      [LSTM(300),\n",
        "                                  Dense(1)],\n",
        "    \n",
        "          \"LSTM_500neurons\":      [LSTM(500),\n",
        "                                  Dense(1)],\n",
        "        \n",
        "          \"LSTM_1000neurons\":      [LSTM(1000),\n",
        "                                  Dense(1)],\n",
        "          \n",
        "          \"BiLSTM_Dense\":          [Bidirectional(LSTM(300)),\n",
        "                                  Dense(1)],\n",
        "          \n",
        "          \"MultipleLSTM_Dense\":    [LSTM(200, return_sequences=True),\n",
        "                                  LSTM(100),\n",
        "                                  Dense(1)],\n",
        "          \n",
        "          \"LSTM_MultipleDense\":     [LSTM(300),\n",
        "                                  Dense(30, activation=\"relu\"),\n",
        "                                  Dense(1)],\n",
        "     \n",
        "         \n",
        "          \"Conv_Pool_LSTM_Dense\": [Conv1D(32,3),\n",
        "                                   MaxPooling1D(pool_size=2),\n",
        "                                   LSTM(100),\n",
        "                                   Dense(1)]\n",
        "}"
      ],
      "execution_count": 0,
      "outputs": []
    },
    {
      "metadata": {
        "id": "jtVn5MjyZobz",
        "colab_type": "code",
        "colab": {}
      },
      "cell_type": "code",
      "source": [
        "lst = []\n",
        "for model, params in models.items():\n",
        "  mae = (evaluate_lstm_model(build_lstm_model_3(params), X_train_nn, X_val_nn, y_train, y_val, model))\n",
        "  lst.append(mae)"
      ],
      "execution_count": 0,
      "outputs": []
    },
    {
      "metadata": {
        "id": "icxOEEjIOx6J",
        "colab_type": "code",
        "colab": {}
      },
      "cell_type": "code",
      "source": [
        "lstm_3_results = pd.DataFrame(list(zip(models.keys(), lst)), columns=[\"model\", \"MSE\"]).sort_values(by=\"MSE\", ascending=True).reset_index(drop=True)"
      ],
      "execution_count": 0,
      "outputs": []
    },
    {
      "metadata": {
        "id": "NU7hrWQLSLqV",
        "colab_type": "code",
        "outputId": "8764ea9f-5b48-4d3a-d4ac-9314853feebd",
        "colab": {
          "base_uri": "https://localhost:8080/",
          "height": 266
        }
      },
      "cell_type": "code",
      "source": [
        "lstm_3_results"
      ],
      "execution_count": 0,
      "outputs": [
        {
          "output_type": "execute_result",
          "data": {
            "text/html": [
              "<div>\n",
              "<style scoped>\n",
              "    .dataframe tbody tr th:only-of-type {\n",
              "        vertical-align: middle;\n",
              "    }\n",
              "\n",
              "    .dataframe tbody tr th {\n",
              "        vertical-align: top;\n",
              "    }\n",
              "\n",
              "    .dataframe thead th {\n",
              "        text-align: right;\n",
              "    }\n",
              "</style>\n",
              "<table border=\"1\" class=\"dataframe\">\n",
              "  <thead>\n",
              "    <tr style=\"text-align: right;\">\n",
              "      <th></th>\n",
              "      <th>model</th>\n",
              "      <th>MSE</th>\n",
              "    </tr>\n",
              "  </thead>\n",
              "  <tbody>\n",
              "    <tr>\n",
              "      <th>0</th>\n",
              "      <td>LSTM_300neurons</td>\n",
              "      <td>9.518730</td>\n",
              "    </tr>\n",
              "    <tr>\n",
              "      <th>1</th>\n",
              "      <td>LSTM_MultipleDense</td>\n",
              "      <td>9.520288</td>\n",
              "    </tr>\n",
              "    <tr>\n",
              "      <th>2</th>\n",
              "      <td>Conv_Pool_LSTM_Dense</td>\n",
              "      <td>9.521109</td>\n",
              "    </tr>\n",
              "    <tr>\n",
              "      <th>3</th>\n",
              "      <td>BiLSTM_Dense</td>\n",
              "      <td>9.521109</td>\n",
              "    </tr>\n",
              "    <tr>\n",
              "      <th>4</th>\n",
              "      <td>MultipleLSTM_Dense</td>\n",
              "      <td>9.523565</td>\n",
              "    </tr>\n",
              "    <tr>\n",
              "      <th>5</th>\n",
              "      <td>LSTM_500neurons</td>\n",
              "      <td>9.526321</td>\n",
              "    </tr>\n",
              "    <tr>\n",
              "      <th>6</th>\n",
              "      <td>LSTM_1000neurons</td>\n",
              "      <td>9.526927</td>\n",
              "    </tr>\n",
              "  </tbody>\n",
              "</table>\n",
              "</div>"
            ],
            "text/plain": [
              "                  model       MSE\n",
              "0       LSTM_300neurons  9.518730\n",
              "1    LSTM_MultipleDense  9.520288\n",
              "2  Conv_Pool_LSTM_Dense  9.521109\n",
              "3          BiLSTM_Dense  9.521109\n",
              "4    MultipleLSTM_Dense  9.523565\n",
              "5       LSTM_500neurons  9.526321\n",
              "6      LSTM_1000neurons  9.526927"
            ]
          },
          "metadata": {
            "tags": []
          },
          "execution_count": 97
        }
      ]
    },
    {
      "metadata": {
        "id": "glVpQr7z2qOW",
        "colab_type": "code",
        "outputId": "967c05e6-ddca-4a46-afb4-fabfd5d162ce",
        "colab": {
          "base_uri": "https://localhost:8080/",
          "height": 255
        }
      },
      "cell_type": "code",
      "source": [
        "# loading best NN regression model and calculating accuracy\n",
        "\n",
        "best_nn_reg = build_lstm_model_3(models[\"LSTM_300neurons\"])\n",
        "best_nn_reg.load_weights(\"data/LSTM_300neurons.h5py\")\n",
        "best_nn_reg.compile(loss='mean_squared_error',\n",
        "               optimizer=\"adam\", \n",
        "               metrics=[\"mean_absolute_error\"])\n",
        "nn_reg_acc = calculate_regression_accuracy(bin_y, X_val_nn, y_val, best_nn_reg)\n",
        "print(f\"Accuracy of best NN for regression: {nn_reg_acc}\")"
      ],
      "execution_count": 0,
      "outputs": [
        {
          "output_type": "stream",
          "text": [
            "_________________________________________________________________\n",
            "Layer (type)                 Output Shape              Param #   \n",
            "=================================================================\n",
            "embedding_14 (Embedding)     (None, 136, 300)          9757200   \n",
            "_________________________________________________________________\n",
            "lstm_17 (LSTM)               (None, 300)               721200    \n",
            "_________________________________________________________________\n",
            "dense_17 (Dense)             (None, 1)                 301       \n",
            "=================================================================\n",
            "Total params: 10,478,701\n",
            "Trainable params: 721,501\n",
            "Non-trainable params: 9,757,200\n",
            "_________________________________________________________________\n",
            "Accuracy of best NN for regression: 0.6726381170317097\n"
          ],
          "name": "stdout"
        }
      ]
    },
    {
      "metadata": {
        "id": "9brClq6UTqYH",
        "colab_type": "text"
      },
      "cell_type": "markdown",
      "source": [
        "All of the LSTM models has very similar MSE value. The best model (lowest MSE) is the simplest: LSTM network with 300 neurons. However, MSE is higher than for both Linear Regression (minimal difference) and for XBGRegressor, which is clear winner with MSE 5,7. It has also the highest accuracy: 0.73."
      ]
    },
    {
      "metadata": {
        "id": "x3TDkWPZLctE",
        "colab_type": "text"
      },
      "cell_type": "markdown",
      "source": [
        "### Score on test set"
      ]
    },
    {
      "metadata": {
        "id": "H2oGnUr6LexF",
        "colab_type": "text"
      },
      "cell_type": "markdown",
      "source": [
        "The best model of all models tested for regression is XGBRegressor. Let's check how it scores on test set."
      ]
    },
    {
      "metadata": {
        "id": "N2ohEy0vOx3d",
        "colab_type": "code",
        "outputId": "798e44ed-b2b4-4f11-9411-99d53fa75555",
        "colab": {
          "base_uri": "https://localhost:8080/",
          "height": 34
        }
      },
      "cell_type": "code",
      "source": [
        "# loading best model from a file and evaluating on test set\n",
        "\n",
        "best_reg_acc = calculate_regression_accuracy(bin_y, X_test_lda, y_test, best_xgbregressor)\n",
        "print(f\"Accuracy of best model for regression: {best_reg_acc}\")\n"
      ],
      "execution_count": 0,
      "outputs": [
        {
          "output_type": "stream",
          "text": [
            "Accuracy of best model for regression: 0.7300211181504946\n"
          ],
          "name": "stdout"
        }
      ]
    },
    {
      "metadata": {
        "id": "KDAZqXlKMfa_",
        "colab_type": "text"
      },
      "cell_type": "markdown",
      "source": [
        "# Summary"
      ]
    },
    {
      "metadata": {
        "id": "8xLKk3_NMiZv",
        "colab_type": "text"
      },
      "cell_type": "markdown",
      "source": [
        "Predicting wine rating on the basis of its description can be treated in three ways: as Nominal Classification, Ordinal Classification and Regression. It turned out that LSTM for Nominal Classification and NNRank for Ordinal Classification scored almost the same (nominal slightly better) leaving Regression behind. It's an interesting result as I supposed that taking into accound ordinality of classes would improve the accuracy. However, it seems that in this particular problem the effect of ordinality wasn't that big.\n",
        "\n",
        "Table below shows best model for every approach and its accuracy on test set.\n",
        "\n",
        "There were two things that surprised me during this project. First, that the terms used by professional sommeliers and wine-tasters to describe wines are not as random as they appeared to me before and they are actually good predictors for wine quality (supposing rating reflects wine quality). Second is the fact that there are so few Python implementations for Ordinal Classification. It seems like a field for further research.\n",
        "\n",
        "\n"
      ]
    },
    {
      "metadata": {
        "id": "mm3O4T3PAUYN",
        "colab_type": "code",
        "outputId": "7e11d90f-9cfc-4edc-d33d-2217b23e4c2e",
        "colab": {
          "base_uri": "https://localhost:8080/",
          "height": 142
        }
      },
      "cell_type": "code",
      "source": [
        "pd.DataFrame(data = {\"approach\": [\"Nominal Classification\", \"Ordinal Classification\", \"Regression\"],\n",
        "              \"models\": [\"LSTM(300)+Dense(30)+Dense(3)\", \"LSTM(200)+LSTM(100)+Dense(3) \", \"XGBREgressor\"],\n",
        "               \"accuracy\": [best_nom_acc, best_ord_acc, best_reg_acc]})"
      ],
      "execution_count": 0,
      "outputs": [
        {
          "output_type": "execute_result",
          "data": {
            "text/html": [
              "<div>\n",
              "<style scoped>\n",
              "    .dataframe tbody tr th:only-of-type {\n",
              "        vertical-align: middle;\n",
              "    }\n",
              "\n",
              "    .dataframe tbody tr th {\n",
              "        vertical-align: top;\n",
              "    }\n",
              "\n",
              "    .dataframe thead th {\n",
              "        text-align: right;\n",
              "    }\n",
              "</style>\n",
              "<table border=\"1\" class=\"dataframe\">\n",
              "  <thead>\n",
              "    <tr style=\"text-align: right;\">\n",
              "      <th></th>\n",
              "      <th>accuracy</th>\n",
              "      <th>approach</th>\n",
              "      <th>models</th>\n",
              "    </tr>\n",
              "  </thead>\n",
              "  <tbody>\n",
              "    <tr>\n",
              "      <th>0</th>\n",
              "      <td>0.820162</td>\n",
              "      <td>Nominal Classification</td>\n",
              "      <td>LSTM(300)+Dense(30)+Dense(3)</td>\n",
              "    </tr>\n",
              "    <tr>\n",
              "      <th>1</th>\n",
              "      <td>0.817995</td>\n",
              "      <td>Ordinal Classification</td>\n",
              "      <td>LSTM(200)+LSTM(100)+Dense(3)</td>\n",
              "    </tr>\n",
              "    <tr>\n",
              "      <th>2</th>\n",
              "      <td>0.730021</td>\n",
              "      <td>Regression</td>\n",
              "      <td>XGBREgressor</td>\n",
              "    </tr>\n",
              "  </tbody>\n",
              "</table>\n",
              "</div>"
            ],
            "text/plain": [
              "   accuracy                approach                         models\n",
              "0  0.820162  Nominal Classification   LSTM(300)+Dense(30)+Dense(3)\n",
              "1  0.817995  Ordinal Classification  LSTM(200)+LSTM(100)+Dense(3) \n",
              "2  0.730021              Regression                   XGBREgressor"
            ]
          },
          "metadata": {
            "tags": []
          },
          "execution_count": 51
        }
      ]
    }
  ]
}